{
 "cells": [
  {
   "cell_type": "markdown",
   "id": "93a80104",
   "metadata": {},
   "source": [
    "#                                     ASSESSMENT PROJECT TO ANAYLYSE LOAN DATA"
   ]
  },
  {
   "cell_type": "markdown",
   "id": "afc3e75a",
   "metadata": {},
   "source": [
    "\n",
    "# Import Libraries"
   ]
  },
  {
   "cell_type": "code",
   "execution_count": 66,
   "id": "21c2752e",
   "metadata": {},
   "outputs": [],
   "source": [
    "import pandas as pd\n",
    "import numpy as np\n",
    "import matplotlib.pyplot as plt\n",
    "import seaborn as sns\n",
    "from sklearn.model_selection import train_test_split\n",
    "from sklearn.linear_model import LogisticRegression\n",
    "from sklearn.metrics import confusion_matrix\n"
   ]
  },
  {
   "cell_type": "markdown",
   "id": "636a9ddc",
   "metadata": {},
   "source": [
    "# Load Data"
   ]
  },
  {
   "cell_type": "code",
   "execution_count": 2,
   "id": "7dea0e04",
   "metadata": {},
   "outputs": [],
   "source": [
    "loan=pd.read_excel('loan-data.xlsX')"
   ]
  },
  {
   "cell_type": "markdown",
   "id": "c810645c",
   "metadata": {},
   "source": [
    "#      Understanding Data"
   ]
  },
  {
   "cell_type": "code",
   "execution_count": 3,
   "id": "aec39dd7",
   "metadata": {},
   "outputs": [
    {
     "data": {
      "text/plain": [
       "Index(['Unnamed: 0', 'id', 'member_id', 'loan_amnt', 'funded_amnt',\n",
       "       'funded_amnt_inv', 'term', 'int_rate', 'installment', 'emp_length',\n",
       "       'home_ownership', 'annual_inc', 'verification_status', 'issue_d',\n",
       "       'loan_status', 'purpose', 'zip_code', 'addr_state', 'dti',\n",
       "       'delinq_2yrs', 'earliest_cr_line', 'inq_last_6mths',\n",
       "       'mths_since_last_delinq', 'open_acc', 'pub_rec', 'revol_bal',\n",
       "       'revol_util', 'total_acc', 'total_pymnt', 'total_pymnt_inv',\n",
       "       'total_rec_prncp', 'total_rec_int', 'last_pymnt_d', 'last_pymnt_amnt',\n",
       "       'next_pymnt_d', 'last_credit_pull_d', 'repay_fail'],\n",
       "      dtype='object')"
      ]
     },
     "execution_count": 3,
     "metadata": {},
     "output_type": "execute_result"
    }
   ],
   "source": [
    "loan.columns"
   ]
  },
  {
   "cell_type": "code",
   "execution_count": 4,
   "id": "f0163031",
   "metadata": {},
   "outputs": [
    {
     "data": {
      "text/html": [
       "<div>\n",
       "<style scoped>\n",
       "    .dataframe tbody tr th:only-of-type {\n",
       "        vertical-align: middle;\n",
       "    }\n",
       "\n",
       "    .dataframe tbody tr th {\n",
       "        vertical-align: top;\n",
       "    }\n",
       "\n",
       "    .dataframe thead th {\n",
       "        text-align: right;\n",
       "    }\n",
       "</style>\n",
       "<table border=\"1\" class=\"dataframe\">\n",
       "  <thead>\n",
       "    <tr style=\"text-align: right;\">\n",
       "      <th></th>\n",
       "      <th>Unnamed: 0</th>\n",
       "      <th>id</th>\n",
       "      <th>member_id</th>\n",
       "      <th>loan_amnt</th>\n",
       "      <th>funded_amnt</th>\n",
       "      <th>funded_amnt_inv</th>\n",
       "      <th>term</th>\n",
       "      <th>int_rate</th>\n",
       "      <th>installment</th>\n",
       "      <th>emp_length</th>\n",
       "      <th>...</th>\n",
       "      <th>total_acc</th>\n",
       "      <th>total_pymnt</th>\n",
       "      <th>total_pymnt_inv</th>\n",
       "      <th>total_rec_prncp</th>\n",
       "      <th>total_rec_int</th>\n",
       "      <th>last_pymnt_d</th>\n",
       "      <th>last_pymnt_amnt</th>\n",
       "      <th>next_pymnt_d</th>\n",
       "      <th>last_credit_pull_d</th>\n",
       "      <th>repay_fail</th>\n",
       "    </tr>\n",
       "  </thead>\n",
       "  <tbody>\n",
       "    <tr>\n",
       "      <th>0</th>\n",
       "      <td>2</td>\n",
       "      <td>2</td>\n",
       "      <td>2</td>\n",
       "      <td>0.0</td>\n",
       "      <td>0.0</td>\n",
       "      <td>0.0</td>\n",
       "      <td>36 months</td>\n",
       "      <td>0.00</td>\n",
       "      <td>0.00</td>\n",
       "      <td>&lt; 1 year</td>\n",
       "      <td>...</td>\n",
       "      <td>1.0</td>\n",
       "      <td>0.000000</td>\n",
       "      <td>0.00</td>\n",
       "      <td>0.00</td>\n",
       "      <td>0.00</td>\n",
       "      <td>2023-01-07</td>\n",
       "      <td>0.00</td>\n",
       "      <td>2023-01-07</td>\n",
       "      <td>2023-01-07</td>\n",
       "      <td>1</td>\n",
       "    </tr>\n",
       "    <tr>\n",
       "      <th>1</th>\n",
       "      <td>3</td>\n",
       "      <td>545583</td>\n",
       "      <td>703644</td>\n",
       "      <td>2500.0</td>\n",
       "      <td>2500.0</td>\n",
       "      <td>2500.0</td>\n",
       "      <td>36 months</td>\n",
       "      <td>13.98</td>\n",
       "      <td>85.42</td>\n",
       "      <td>4 years</td>\n",
       "      <td>...</td>\n",
       "      <td>10.0</td>\n",
       "      <td>3075.291779</td>\n",
       "      <td>3075.29</td>\n",
       "      <td>2500.00</td>\n",
       "      <td>575.29</td>\n",
       "      <td>2023-07-13</td>\n",
       "      <td>90.85</td>\n",
       "      <td>2023-08-13</td>\n",
       "      <td>2023-06-16</td>\n",
       "      <td>0</td>\n",
       "    </tr>\n",
       "    <tr>\n",
       "      <th>2</th>\n",
       "      <td>4</td>\n",
       "      <td>532101</td>\n",
       "      <td>687836</td>\n",
       "      <td>5000.0</td>\n",
       "      <td>5000.0</td>\n",
       "      <td>5000.0</td>\n",
       "      <td>36 months</td>\n",
       "      <td>15.95</td>\n",
       "      <td>175.67</td>\n",
       "      <td>4 years</td>\n",
       "      <td>...</td>\n",
       "      <td>15.0</td>\n",
       "      <td>2948.760000</td>\n",
       "      <td>2948.76</td>\n",
       "      <td>1909.02</td>\n",
       "      <td>873.81</td>\n",
       "      <td>2023-11-11</td>\n",
       "      <td>175.67</td>\n",
       "      <td>NaT</td>\n",
       "      <td>2023-03-12</td>\n",
       "      <td>1</td>\n",
       "    </tr>\n",
       "    <tr>\n",
       "      <th>3</th>\n",
       "      <td>5</td>\n",
       "      <td>877788</td>\n",
       "      <td>1092507</td>\n",
       "      <td>7000.0</td>\n",
       "      <td>7000.0</td>\n",
       "      <td>7000.0</td>\n",
       "      <td>36 months</td>\n",
       "      <td>9.91</td>\n",
       "      <td>225.58</td>\n",
       "      <td>10+ years</td>\n",
       "      <td>...</td>\n",
       "      <td>20.0</td>\n",
       "      <td>8082.391880</td>\n",
       "      <td>8082.39</td>\n",
       "      <td>7000.00</td>\n",
       "      <td>1082.39</td>\n",
       "      <td>2023-03-14</td>\n",
       "      <td>1550.27</td>\n",
       "      <td>NaT</td>\n",
       "      <td>2023-03-14</td>\n",
       "      <td>0</td>\n",
       "    </tr>\n",
       "    <tr>\n",
       "      <th>4</th>\n",
       "      <td>6</td>\n",
       "      <td>875406</td>\n",
       "      <td>1089981</td>\n",
       "      <td>2000.0</td>\n",
       "      <td>2000.0</td>\n",
       "      <td>2000.0</td>\n",
       "      <td>36 months</td>\n",
       "      <td>5.42</td>\n",
       "      <td>60.32</td>\n",
       "      <td>10+ years</td>\n",
       "      <td>...</td>\n",
       "      <td>15.0</td>\n",
       "      <td>2161.663244</td>\n",
       "      <td>2161.66</td>\n",
       "      <td>2000.00</td>\n",
       "      <td>161.66</td>\n",
       "      <td>2023-02-14</td>\n",
       "      <td>53.12</td>\n",
       "      <td>NaT</td>\n",
       "      <td>2023-06-16</td>\n",
       "      <td>0</td>\n",
       "    </tr>\n",
       "  </tbody>\n",
       "</table>\n",
       "<p>5 rows × 37 columns</p>\n",
       "</div>"
      ],
      "text/plain": [
       "   Unnamed: 0      id  member_id  loan_amnt  funded_amnt  funded_amnt_inv  \\\n",
       "0           2       2          2        0.0          0.0              0.0   \n",
       "1           3  545583     703644     2500.0       2500.0           2500.0   \n",
       "2           4  532101     687836     5000.0       5000.0           5000.0   \n",
       "3           5  877788    1092507     7000.0       7000.0           7000.0   \n",
       "4           6  875406    1089981     2000.0       2000.0           2000.0   \n",
       "\n",
       "        term  int_rate  installment emp_length  ... total_acc  total_pymnt  \\\n",
       "0  36 months      0.00         0.00   < 1 year  ...       1.0     0.000000   \n",
       "1  36 months     13.98        85.42    4 years  ...      10.0  3075.291779   \n",
       "2  36 months     15.95       175.67    4 years  ...      15.0  2948.760000   \n",
       "3  36 months      9.91       225.58  10+ years  ...      20.0  8082.391880   \n",
       "4  36 months      5.42        60.32  10+ years  ...      15.0  2161.663244   \n",
       "\n",
       "  total_pymnt_inv total_rec_prncp total_rec_int last_pymnt_d last_pymnt_amnt  \\\n",
       "0            0.00            0.00          0.00   2023-01-07            0.00   \n",
       "1         3075.29         2500.00        575.29   2023-07-13           90.85   \n",
       "2         2948.76         1909.02        873.81   2023-11-11          175.67   \n",
       "3         8082.39         7000.00       1082.39   2023-03-14         1550.27   \n",
       "4         2161.66         2000.00        161.66   2023-02-14           53.12   \n",
       "\n",
       "  next_pymnt_d  last_credit_pull_d  repay_fail  \n",
       "0   2023-01-07          2023-01-07           1  \n",
       "1   2023-08-13          2023-06-16           0  \n",
       "2          NaT          2023-03-12           1  \n",
       "3          NaT          2023-03-14           0  \n",
       "4          NaT          2023-06-16           0  \n",
       "\n",
       "[5 rows x 37 columns]"
      ]
     },
     "execution_count": 4,
     "metadata": {},
     "output_type": "execute_result"
    }
   ],
   "source": [
    "loan.head()"
   ]
  },
  {
   "cell_type": "markdown",
   "id": "c22fcdc2",
   "metadata": {},
   "source": [
    "# Checking missing values"
   ]
  },
  {
   "cell_type": "code",
   "execution_count": 5,
   "id": "e044fdd8",
   "metadata": {},
   "outputs": [
    {
     "data": {
      "text/plain": [
       "Unnamed: 0                    0\n",
       "id                            0\n",
       "member_id                     0\n",
       "loan_amnt                     1\n",
       "funded_amnt                   1\n",
       "funded_amnt_inv               1\n",
       "term                          0\n",
       "int_rate                      0\n",
       "installment                   1\n",
       "emp_length                  993\n",
       "home_ownership                0\n",
       "annual_inc                    2\n",
       "verification_status           0\n",
       "issue_d                       0\n",
       "loan_status                   0\n",
       "purpose                       0\n",
       "zip_code                      0\n",
       "addr_state                    0\n",
       "dti                           0\n",
       "delinq_2yrs                   1\n",
       "earliest_cr_line              0\n",
       "inq_last_6mths                1\n",
       "mths_since_last_delinq    24363\n",
       "open_acc                      1\n",
       "pub_rec                       1\n",
       "revol_bal                     4\n",
       "revol_util                   59\n",
       "total_acc                     1\n",
       "total_pymnt                   1\n",
       "total_pymnt_inv               1\n",
       "total_rec_prncp               1\n",
       "total_rec_int                 1\n",
       "last_pymnt_d                 71\n",
       "last_pymnt_amnt               1\n",
       "next_pymnt_d              35097\n",
       "last_credit_pull_d            3\n",
       "repay_fail                    0\n",
       "dtype: int64"
      ]
     },
     "execution_count": 5,
     "metadata": {},
     "output_type": "execute_result"
    }
   ],
   "source": [
    "loan.isnull().sum()"
   ]
  },
  {
   "cell_type": "code",
   "execution_count": 6,
   "id": "91452653",
   "metadata": {
    "scrolled": true
   },
   "outputs": [
    {
     "name": "stdout",
     "output_type": "stream",
     "text": [
      "<class 'pandas.core.frame.DataFrame'>\n",
      "RangeIndex: 38480 entries, 0 to 38479\n",
      "Data columns (total 37 columns):\n",
      " #   Column                  Non-Null Count  Dtype         \n",
      "---  ------                  --------------  -----         \n",
      " 0   Unnamed: 0              38480 non-null  int64         \n",
      " 1   id                      38480 non-null  int64         \n",
      " 2   member_id               38480 non-null  int64         \n",
      " 3   loan_amnt               38479 non-null  float64       \n",
      " 4   funded_amnt             38479 non-null  float64       \n",
      " 5   funded_amnt_inv         38479 non-null  float64       \n",
      " 6   term                    38480 non-null  object        \n",
      " 7   int_rate                38480 non-null  float64       \n",
      " 8   installment             38479 non-null  float64       \n",
      " 9   emp_length              37487 non-null  object        \n",
      " 10  home_ownership          38480 non-null  object        \n",
      " 11  annual_inc              38478 non-null  float64       \n",
      " 12  verification_status     38480 non-null  object        \n",
      " 13  issue_d                 38480 non-null  datetime64[ns]\n",
      " 14  loan_status             38480 non-null  object        \n",
      " 15  purpose                 38480 non-null  object        \n",
      " 16  zip_code                38480 non-null  object        \n",
      " 17  addr_state              38480 non-null  object        \n",
      " 18  dti                     38480 non-null  float64       \n",
      " 19  delinq_2yrs             38479 non-null  float64       \n",
      " 20  earliest_cr_line        38480 non-null  datetime64[ns]\n",
      " 21  inq_last_6mths          38479 non-null  float64       \n",
      " 22  mths_since_last_delinq  14117 non-null  float64       \n",
      " 23  open_acc                38479 non-null  float64       \n",
      " 24  pub_rec                 38479 non-null  float64       \n",
      " 25  revol_bal               38476 non-null  float64       \n",
      " 26  revol_util              38421 non-null  object        \n",
      " 27  total_acc               38479 non-null  float64       \n",
      " 28  total_pymnt             38479 non-null  float64       \n",
      " 29  total_pymnt_inv         38479 non-null  float64       \n",
      " 30  total_rec_prncp         38479 non-null  float64       \n",
      " 31  total_rec_int           38479 non-null  float64       \n",
      " 32  last_pymnt_d            38409 non-null  datetime64[ns]\n",
      " 33  last_pymnt_amnt         38479 non-null  float64       \n",
      " 34  next_pymnt_d            3383 non-null   datetime64[ns]\n",
      " 35  last_credit_pull_d      38477 non-null  datetime64[ns]\n",
      " 36  repay_fail              38480 non-null  int64         \n",
      "dtypes: datetime64[ns](5), float64(19), int64(4), object(9)\n",
      "memory usage: 10.9+ MB\n"
     ]
    }
   ],
   "source": [
    "loan.info()"
   ]
  },
  {
   "cell_type": "markdown",
   "id": "54f65215",
   "metadata": {},
   "source": [
    "# Clean Unnecessary Columns"
   ]
  },
  {
   "cell_type": "code",
   "execution_count": 7,
   "id": "4ae34551",
   "metadata": {},
   "outputs": [],
   "source": [
    "columns_to_drop = ['Unnamed: 0', 'id', 'member_id', 'funded_amnt_inv',\n",
    "                     'issue_d', 'last_pymnt_d', 'next_pymnt_d',\n",
    "                   'last_credit_pull_d', 'zip_code', 'addr_state']\n",
    "\n",
    "\n",
    "loan_dropped = loan.drop(columns=columns_to_drop)"
   ]
  },
  {
   "cell_type": "code",
   "execution_count": 8,
   "id": "6765900e",
   "metadata": {},
   "outputs": [
    {
     "data": {
      "text/plain": [
       "array(['36 months', '60 months'], dtype=object)"
      ]
     },
     "execution_count": 8,
     "metadata": {},
     "output_type": "execute_result"
    }
   ],
   "source": [
    "loan_dropped['term'].unique()"
   ]
  },
  {
   "cell_type": "code",
   "execution_count": 9,
   "id": "f7be295f",
   "metadata": {},
   "outputs": [
    {
     "name": "stdout",
     "output_type": "stream",
     "text": [
      "<class 'pandas.core.frame.DataFrame'>\n",
      "RangeIndex: 38480 entries, 0 to 38479\n",
      "Data columns (total 27 columns):\n",
      " #   Column                  Non-Null Count  Dtype         \n",
      "---  ------                  --------------  -----         \n",
      " 0   loan_amnt               38479 non-null  float64       \n",
      " 1   funded_amnt             38479 non-null  float64       \n",
      " 2   term                    38480 non-null  object        \n",
      " 3   int_rate                38480 non-null  float64       \n",
      " 4   installment             38479 non-null  float64       \n",
      " 5   emp_length              37487 non-null  object        \n",
      " 6   home_ownership          38480 non-null  object        \n",
      " 7   annual_inc              38478 non-null  float64       \n",
      " 8   verification_status     38480 non-null  object        \n",
      " 9   loan_status             38480 non-null  object        \n",
      " 10  purpose                 38480 non-null  object        \n",
      " 11  dti                     38480 non-null  float64       \n",
      " 12  delinq_2yrs             38479 non-null  float64       \n",
      " 13  earliest_cr_line        38480 non-null  datetime64[ns]\n",
      " 14  inq_last_6mths          38479 non-null  float64       \n",
      " 15  mths_since_last_delinq  14117 non-null  float64       \n",
      " 16  open_acc                38479 non-null  float64       \n",
      " 17  pub_rec                 38479 non-null  float64       \n",
      " 18  revol_bal               38476 non-null  float64       \n",
      " 19  revol_util              38421 non-null  object        \n",
      " 20  total_acc               38479 non-null  float64       \n",
      " 21  total_pymnt             38479 non-null  float64       \n",
      " 22  total_pymnt_inv         38479 non-null  float64       \n",
      " 23  total_rec_prncp         38479 non-null  float64       \n",
      " 24  total_rec_int           38479 non-null  float64       \n",
      " 25  last_pymnt_amnt         38479 non-null  float64       \n",
      " 26  repay_fail              38480 non-null  int64         \n",
      "dtypes: datetime64[ns](1), float64(18), int64(1), object(7)\n",
      "memory usage: 7.9+ MB\n"
     ]
    }
   ],
   "source": [
    "loan_dropped.info()"
   ]
  },
  {
   "cell_type": "code",
   "execution_count": 10,
   "id": "cd11d19a",
   "metadata": {},
   "outputs": [],
   "source": [
    "loan_dropped['term']=loan_dropped['term'].str.split().str.get(0)"
   ]
  },
  {
   "cell_type": "code",
   "execution_count": 11,
   "id": "b0e51be1",
   "metadata": {},
   "outputs": [],
   "source": [
    "loan_dropped['term']=loan_dropped['term'].astype(int)"
   ]
  },
  {
   "cell_type": "code",
   "execution_count": 12,
   "id": "00af966c",
   "metadata": {},
   "outputs": [
    {
     "name": "stdout",
     "output_type": "stream",
     "text": [
      "<class 'pandas.core.frame.DataFrame'>\n",
      "RangeIndex: 38480 entries, 0 to 38479\n",
      "Data columns (total 27 columns):\n",
      " #   Column                  Non-Null Count  Dtype         \n",
      "---  ------                  --------------  -----         \n",
      " 0   loan_amnt               38479 non-null  float64       \n",
      " 1   funded_amnt             38479 non-null  float64       \n",
      " 2   term                    38480 non-null  int32         \n",
      " 3   int_rate                38480 non-null  float64       \n",
      " 4   installment             38479 non-null  float64       \n",
      " 5   emp_length              37487 non-null  object        \n",
      " 6   home_ownership          38480 non-null  object        \n",
      " 7   annual_inc              38478 non-null  float64       \n",
      " 8   verification_status     38480 non-null  object        \n",
      " 9   loan_status             38480 non-null  object        \n",
      " 10  purpose                 38480 non-null  object        \n",
      " 11  dti                     38480 non-null  float64       \n",
      " 12  delinq_2yrs             38479 non-null  float64       \n",
      " 13  earliest_cr_line        38480 non-null  datetime64[ns]\n",
      " 14  inq_last_6mths          38479 non-null  float64       \n",
      " 15  mths_since_last_delinq  14117 non-null  float64       \n",
      " 16  open_acc                38479 non-null  float64       \n",
      " 17  pub_rec                 38479 non-null  float64       \n",
      " 18  revol_bal               38476 non-null  float64       \n",
      " 19  revol_util              38421 non-null  object        \n",
      " 20  total_acc               38479 non-null  float64       \n",
      " 21  total_pymnt             38479 non-null  float64       \n",
      " 22  total_pymnt_inv         38479 non-null  float64       \n",
      " 23  total_rec_prncp         38479 non-null  float64       \n",
      " 24  total_rec_int           38479 non-null  float64       \n",
      " 25  last_pymnt_amnt         38479 non-null  float64       \n",
      " 26  repay_fail              38480 non-null  int64         \n",
      "dtypes: datetime64[ns](1), float64(18), int32(1), int64(1), object(6)\n",
      "memory usage: 7.8+ MB\n"
     ]
    }
   ],
   "source": [
    "loan_dropped.info()"
   ]
  },
  {
   "cell_type": "code",
   "execution_count": 13,
   "id": "ad558069",
   "metadata": {},
   "outputs": [
    {
     "data": {
      "text/plain": [
       "array(['< 1 year', '4 years', '10+ years', nan, '3 years', '5 years',\n",
       "       '7 years', '2 years', '1 year', '6 years', '9 years', '8 years'],\n",
       "      dtype=object)"
      ]
     },
     "execution_count": 13,
     "metadata": {},
     "output_type": "execute_result"
    }
   ],
   "source": [
    "loan_dropped['emp_length'].unique()"
   ]
  },
  {
   "cell_type": "code",
   "execution_count": 14,
   "id": "d14c3dd5",
   "metadata": {},
   "outputs": [],
   "source": [
    "emp_length_mapping = {\n",
    "    '< 1 year': 0,\n",
    "    '1 year': 1,\n",
    "    '2 years': 2,\n",
    "    '3 years': 3,\n",
    "    '4 years': 4,\n",
    "    '5 years': 5,\n",
    "    '6 years': 6,\n",
    "    '7 years': 7,\n",
    "    '8 years': 8,\n",
    "    '9 years': 9,\n",
    "    '10+ years': 10\n",
    "}\n",
    "\n",
    "# Use the mapping to replace the strings with integers\n",
    "loan_dropped['emp_length'] = loan_dropped['emp_length'].replace(emp_length_mapping)"
   ]
  },
  {
   "cell_type": "code",
   "execution_count": 15,
   "id": "37b78675",
   "metadata": {},
   "outputs": [
    {
     "data": {
      "text/plain": [
       "10.0    8465\n",
       "0.0     4565\n",
       "2.0     4292\n",
       "3.0     3939\n",
       "4.0     3314\n",
       "1.0     3254\n",
       "5.0     3171\n",
       "6.0     2144\n",
       "7.0     1702\n",
       "8.0     1445\n",
       "9.0     1196\n",
       "Name: emp_length, dtype: int64"
      ]
     },
     "execution_count": 15,
     "metadata": {},
     "output_type": "execute_result"
    }
   ],
   "source": [
    "loan_dropped['emp_length'].value_counts()"
   ]
  },
  {
   "cell_type": "code",
   "execution_count": 16,
   "id": "324f7e3b",
   "metadata": {},
   "outputs": [
    {
     "name": "stdout",
     "output_type": "stream",
     "text": [
      "<class 'pandas.core.frame.DataFrame'>\n",
      "RangeIndex: 38480 entries, 0 to 38479\n",
      "Data columns (total 27 columns):\n",
      " #   Column                  Non-Null Count  Dtype         \n",
      "---  ------                  --------------  -----         \n",
      " 0   loan_amnt               38479 non-null  float64       \n",
      " 1   funded_amnt             38479 non-null  float64       \n",
      " 2   term                    38480 non-null  int32         \n",
      " 3   int_rate                38480 non-null  float64       \n",
      " 4   installment             38479 non-null  float64       \n",
      " 5   emp_length              37487 non-null  float64       \n",
      " 6   home_ownership          38480 non-null  object        \n",
      " 7   annual_inc              38478 non-null  float64       \n",
      " 8   verification_status     38480 non-null  object        \n",
      " 9   loan_status             38480 non-null  object        \n",
      " 10  purpose                 38480 non-null  object        \n",
      " 11  dti                     38480 non-null  float64       \n",
      " 12  delinq_2yrs             38479 non-null  float64       \n",
      " 13  earliest_cr_line        38480 non-null  datetime64[ns]\n",
      " 14  inq_last_6mths          38479 non-null  float64       \n",
      " 15  mths_since_last_delinq  14117 non-null  float64       \n",
      " 16  open_acc                38479 non-null  float64       \n",
      " 17  pub_rec                 38479 non-null  float64       \n",
      " 18  revol_bal               38476 non-null  float64       \n",
      " 19  revol_util              38421 non-null  object        \n",
      " 20  total_acc               38479 non-null  float64       \n",
      " 21  total_pymnt             38479 non-null  float64       \n",
      " 22  total_pymnt_inv         38479 non-null  float64       \n",
      " 23  total_rec_prncp         38479 non-null  float64       \n",
      " 24  total_rec_int           38479 non-null  float64       \n",
      " 25  last_pymnt_amnt         38479 non-null  float64       \n",
      " 26  repay_fail              38480 non-null  int64         \n",
      "dtypes: datetime64[ns](1), float64(19), int32(1), int64(1), object(5)\n",
      "memory usage: 7.8+ MB\n"
     ]
    }
   ],
   "source": [
    "loan_dropped.info()"
   ]
  },
  {
   "cell_type": "code",
   "execution_count": 17,
   "id": "ed0eff62",
   "metadata": {},
   "outputs": [],
   "source": [
    "loan_dropped['emp_length']=loan_dropped['emp_length'].astype(float)"
   ]
  },
  {
   "cell_type": "code",
   "execution_count": 18,
   "id": "4864694a",
   "metadata": {},
   "outputs": [
    {
     "name": "stdout",
     "output_type": "stream",
     "text": [
      "<class 'pandas.core.frame.DataFrame'>\n",
      "RangeIndex: 38480 entries, 0 to 38479\n",
      "Data columns (total 27 columns):\n",
      " #   Column                  Non-Null Count  Dtype         \n",
      "---  ------                  --------------  -----         \n",
      " 0   loan_amnt               38479 non-null  float64       \n",
      " 1   funded_amnt             38479 non-null  float64       \n",
      " 2   term                    38480 non-null  int32         \n",
      " 3   int_rate                38480 non-null  float64       \n",
      " 4   installment             38479 non-null  float64       \n",
      " 5   emp_length              37487 non-null  float64       \n",
      " 6   home_ownership          38480 non-null  object        \n",
      " 7   annual_inc              38478 non-null  float64       \n",
      " 8   verification_status     38480 non-null  object        \n",
      " 9   loan_status             38480 non-null  object        \n",
      " 10  purpose                 38480 non-null  object        \n",
      " 11  dti                     38480 non-null  float64       \n",
      " 12  delinq_2yrs             38479 non-null  float64       \n",
      " 13  earliest_cr_line        38480 non-null  datetime64[ns]\n",
      " 14  inq_last_6mths          38479 non-null  float64       \n",
      " 15  mths_since_last_delinq  14117 non-null  float64       \n",
      " 16  open_acc                38479 non-null  float64       \n",
      " 17  pub_rec                 38479 non-null  float64       \n",
      " 18  revol_bal               38476 non-null  float64       \n",
      " 19  revol_util              38421 non-null  object        \n",
      " 20  total_acc               38479 non-null  float64       \n",
      " 21  total_pymnt             38479 non-null  float64       \n",
      " 22  total_pymnt_inv         38479 non-null  float64       \n",
      " 23  total_rec_prncp         38479 non-null  float64       \n",
      " 24  total_rec_int           38479 non-null  float64       \n",
      " 25  last_pymnt_amnt         38479 non-null  float64       \n",
      " 26  repay_fail              38480 non-null  int64         \n",
      "dtypes: datetime64[ns](1), float64(19), int32(1), int64(1), object(5)\n",
      "memory usage: 7.8+ MB\n"
     ]
    }
   ],
   "source": [
    "loan_dropped.info()"
   ]
  },
  {
   "cell_type": "code",
   "execution_count": 19,
   "id": "6012c22e",
   "metadata": {},
   "outputs": [
    {
     "data": {
      "text/plain": [
       "array(['Not Verified', 'Verified', 'Source Verified'], dtype=object)"
      ]
     },
     "execution_count": 19,
     "metadata": {},
     "output_type": "execute_result"
    }
   ],
   "source": [
    "loan_dropped['verification_status'].unique()"
   ]
  },
  {
   "cell_type": "code",
   "execution_count": null,
   "id": "ffa77394",
   "metadata": {},
   "outputs": [],
   "source": []
  },
  {
   "cell_type": "code",
   "execution_count": 20,
   "id": "37184214",
   "metadata": {},
   "outputs": [],
   "source": [
    "verification_status_mapping = {\n",
    "    'Not Verified': 0,\n",
    "    'Verified': 1,\n",
    "    'Source Verified': 1\n",
    "}\n",
    "\n",
    "loan_dropped['verification_status'] = loan_dropped['verification_status'].replace(verification_status_mapping)"
   ]
  },
  {
   "cell_type": "code",
   "execution_count": 21,
   "id": "4ad66189",
   "metadata": {},
   "outputs": [
    {
     "name": "stdout",
     "output_type": "stream",
     "text": [
      "<class 'pandas.core.frame.DataFrame'>\n",
      "RangeIndex: 38480 entries, 0 to 38479\n",
      "Data columns (total 27 columns):\n",
      " #   Column                  Non-Null Count  Dtype         \n",
      "---  ------                  --------------  -----         \n",
      " 0   loan_amnt               38479 non-null  float64       \n",
      " 1   funded_amnt             38479 non-null  float64       \n",
      " 2   term                    38480 non-null  int32         \n",
      " 3   int_rate                38480 non-null  float64       \n",
      " 4   installment             38479 non-null  float64       \n",
      " 5   emp_length              37487 non-null  float64       \n",
      " 6   home_ownership          38480 non-null  object        \n",
      " 7   annual_inc              38478 non-null  float64       \n",
      " 8   verification_status     38480 non-null  int64         \n",
      " 9   loan_status             38480 non-null  object        \n",
      " 10  purpose                 38480 non-null  object        \n",
      " 11  dti                     38480 non-null  float64       \n",
      " 12  delinq_2yrs             38479 non-null  float64       \n",
      " 13  earliest_cr_line        38480 non-null  datetime64[ns]\n",
      " 14  inq_last_6mths          38479 non-null  float64       \n",
      " 15  mths_since_last_delinq  14117 non-null  float64       \n",
      " 16  open_acc                38479 non-null  float64       \n",
      " 17  pub_rec                 38479 non-null  float64       \n",
      " 18  revol_bal               38476 non-null  float64       \n",
      " 19  revol_util              38421 non-null  object        \n",
      " 20  total_acc               38479 non-null  float64       \n",
      " 21  total_pymnt             38479 non-null  float64       \n",
      " 22  total_pymnt_inv         38479 non-null  float64       \n",
      " 23  total_rec_prncp         38479 non-null  float64       \n",
      " 24  total_rec_int           38479 non-null  float64       \n",
      " 25  last_pymnt_amnt         38479 non-null  float64       \n",
      " 26  repay_fail              38480 non-null  int64         \n",
      "dtypes: datetime64[ns](1), float64(19), int32(1), int64(2), object(4)\n",
      "memory usage: 7.8+ MB\n"
     ]
    }
   ],
   "source": [
    "loan_dropped.info()"
   ]
  },
  {
   "cell_type": "code",
   "execution_count": 22,
   "id": "e26d99c1",
   "metadata": {},
   "outputs": [
    {
     "data": {
      "text/plain": [
       "RENT        18253\n",
       "MORTGAGE    17140\n",
       "OWN          2958\n",
       "OTHER         125\n",
       "NONE            4\n",
       "Name: home_ownership, dtype: int64"
      ]
     },
     "execution_count": 22,
     "metadata": {},
     "output_type": "execute_result"
    }
   ],
   "source": [
    "loan_dropped['home_ownership'].value_counts()"
   ]
  },
  {
   "cell_type": "code",
   "execution_count": 23,
   "id": "eb1ea1cd",
   "metadata": {},
   "outputs": [],
   "source": [
    "home_ownership_mapping = {\n",
    "    'NONE': \"OTHER\",\n",
    "}\n",
    "\n",
    "loan_dropped['home_ownership'] = loan_dropped['home_ownership'].replace(home_ownership_mapping)"
   ]
  },
  {
   "cell_type": "code",
   "execution_count": 24,
   "id": "7fb7867f",
   "metadata": {},
   "outputs": [
    {
     "name": "stdout",
     "output_type": "stream",
     "text": [
      "<class 'pandas.core.frame.DataFrame'>\n",
      "RangeIndex: 38480 entries, 0 to 38479\n",
      "Data columns (total 27 columns):\n",
      " #   Column                  Non-Null Count  Dtype         \n",
      "---  ------                  --------------  -----         \n",
      " 0   loan_amnt               38479 non-null  float64       \n",
      " 1   funded_amnt             38479 non-null  float64       \n",
      " 2   term                    38480 non-null  int32         \n",
      " 3   int_rate                38480 non-null  float64       \n",
      " 4   installment             38479 non-null  float64       \n",
      " 5   emp_length              37487 non-null  float64       \n",
      " 6   home_ownership          38480 non-null  object        \n",
      " 7   annual_inc              38478 non-null  float64       \n",
      " 8   verification_status     38480 non-null  int64         \n",
      " 9   loan_status             38480 non-null  object        \n",
      " 10  purpose                 38480 non-null  object        \n",
      " 11  dti                     38480 non-null  float64       \n",
      " 12  delinq_2yrs             38479 non-null  float64       \n",
      " 13  earliest_cr_line        38480 non-null  datetime64[ns]\n",
      " 14  inq_last_6mths          38479 non-null  float64       \n",
      " 15  mths_since_last_delinq  14117 non-null  float64       \n",
      " 16  open_acc                38479 non-null  float64       \n",
      " 17  pub_rec                 38479 non-null  float64       \n",
      " 18  revol_bal               38476 non-null  float64       \n",
      " 19  revol_util              38421 non-null  object        \n",
      " 20  total_acc               38479 non-null  float64       \n",
      " 21  total_pymnt             38479 non-null  float64       \n",
      " 22  total_pymnt_inv         38479 non-null  float64       \n",
      " 23  total_rec_prncp         38479 non-null  float64       \n",
      " 24  total_rec_int           38479 non-null  float64       \n",
      " 25  last_pymnt_amnt         38479 non-null  float64       \n",
      " 26  repay_fail              38480 non-null  int64         \n",
      "dtypes: datetime64[ns](1), float64(19), int32(1), int64(2), object(4)\n",
      "memory usage: 7.8+ MB\n"
     ]
    }
   ],
   "source": [
    "loan_dropped.info()"
   ]
  },
  {
   "cell_type": "code",
   "execution_count": 25,
   "id": "8c951d5a",
   "metadata": {},
   "outputs": [
    {
     "data": {
      "text/plain": [
       "Fully Paid                                             29987\n",
       "Charged Off                                             5111\n",
       "Does not meet the credit policy. Status:Fully Paid      1782\n",
       "Current                                                  867\n",
       "Does not meet the credit policy. Status:Charged Off      689\n",
       "Late (31-120 days)                                        20\n",
       "In Grace Period                                           15\n",
       "Late (16-30 days)                                          7\n",
       "Default                                                    2\n",
       "Name: loan_status, dtype: int64"
      ]
     },
     "execution_count": 25,
     "metadata": {},
     "output_type": "execute_result"
    }
   ],
   "source": [
    "loan_dropped['loan_status'].value_counts()"
   ]
  },
  {
   "cell_type": "code",
   "execution_count": 26,
   "id": "68e1ed25",
   "metadata": {},
   "outputs": [],
   "source": [
    "loan_status_mapping = {\n",
    "   \"Does not meet the credit policy. Status:Fully Paid\" : \"Fully Paid\",\n",
    "    \"Does not meet the credit policy. Status:Charged Off\": \"Charged Off\" ,\n",
    "    \"In Grace Period\":\"Late\",\n",
    "    \"Default\":\"Late\",\n",
    "    \n",
    "    \"Late (31-120 days)\":\"Late\",\n",
    "   \"Late (16-30 days)\" :\"Late\"\n",
    "}\n",
    "\n",
    "loan_dropped['loan_status'] = loan_dropped['loan_status'].replace(loan_status_mapping)"
   ]
  },
  {
   "cell_type": "code",
   "execution_count": 27,
   "id": "4c9235c1",
   "metadata": {},
   "outputs": [
    {
     "data": {
      "text/plain": [
       "Fully Paid     31769\n",
       "Charged Off     5800\n",
       "Current          867\n",
       "Late              44\n",
       "Name: loan_status, dtype: int64"
      ]
     },
     "execution_count": 27,
     "metadata": {},
     "output_type": "execute_result"
    }
   ],
   "source": [
    "loan_dropped['loan_status'].value_counts()"
   ]
  },
  {
   "cell_type": "code",
   "execution_count": 28,
   "id": "8f1c5eff",
   "metadata": {},
   "outputs": [
    {
     "data": {
      "text/plain": [
       "debt_consolidation    17917\n",
       "credit_card            4974\n",
       "other                  3950\n",
       "home_improvement       2901\n",
       "major_purchase         2079\n",
       "small_business         1808\n",
       "car                    1481\n",
       "wedding                 909\n",
       "medical                 675\n",
       "moving                  562\n",
       "house                   387\n",
       "educational             386\n",
       "vacation                360\n",
       "renewable_energy         91\n",
       "Name: purpose, dtype: int64"
      ]
     },
     "execution_count": 28,
     "metadata": {},
     "output_type": "execute_result"
    }
   ],
   "source": [
    "loan_dropped['purpose'].value_counts()"
   ]
  },
  {
   "cell_type": "code",
   "execution_count": 29,
   "id": "b45fc239",
   "metadata": {},
   "outputs": [
    {
     "name": "stdout",
     "output_type": "stream",
     "text": [
      "<class 'pandas.core.frame.DataFrame'>\n",
      "RangeIndex: 38480 entries, 0 to 38479\n",
      "Data columns (total 27 columns):\n",
      " #   Column                  Non-Null Count  Dtype         \n",
      "---  ------                  --------------  -----         \n",
      " 0   loan_amnt               38479 non-null  float64       \n",
      " 1   funded_amnt             38479 non-null  float64       \n",
      " 2   term                    38480 non-null  int32         \n",
      " 3   int_rate                38480 non-null  float64       \n",
      " 4   installment             38479 non-null  float64       \n",
      " 5   emp_length              37487 non-null  float64       \n",
      " 6   home_ownership          38480 non-null  object        \n",
      " 7   annual_inc              38478 non-null  float64       \n",
      " 8   verification_status     38480 non-null  int64         \n",
      " 9   loan_status             38480 non-null  object        \n",
      " 10  purpose                 38480 non-null  object        \n",
      " 11  dti                     38480 non-null  float64       \n",
      " 12  delinq_2yrs             38479 non-null  float64       \n",
      " 13  earliest_cr_line        38480 non-null  datetime64[ns]\n",
      " 14  inq_last_6mths          38479 non-null  float64       \n",
      " 15  mths_since_last_delinq  14117 non-null  float64       \n",
      " 16  open_acc                38479 non-null  float64       \n",
      " 17  pub_rec                 38479 non-null  float64       \n",
      " 18  revol_bal               38476 non-null  float64       \n",
      " 19  revol_util              38421 non-null  object        \n",
      " 20  total_acc               38479 non-null  float64       \n",
      " 21  total_pymnt             38479 non-null  float64       \n",
      " 22  total_pymnt_inv         38479 non-null  float64       \n",
      " 23  total_rec_prncp         38479 non-null  float64       \n",
      " 24  total_rec_int           38479 non-null  float64       \n",
      " 25  last_pymnt_amnt         38479 non-null  float64       \n",
      " 26  repay_fail              38480 non-null  int64         \n",
      "dtypes: datetime64[ns](1), float64(19), int32(1), int64(2), object(4)\n",
      "memory usage: 7.8+ MB\n"
     ]
    }
   ],
   "source": [
    "loan_dropped.info()"
   ]
  },
  {
   "cell_type": "code",
   "execution_count": 30,
   "id": "cc25d46e",
   "metadata": {},
   "outputs": [
    {
     "data": {
      "text/plain": [
       "Index(['loan_amnt', 'funded_amnt', 'term', 'int_rate', 'installment',\n",
       "       'emp_length', 'home_ownership', 'annual_inc', 'verification_status',\n",
       "       'loan_status', 'purpose', 'dti', 'delinq_2yrs', 'earliest_cr_line',\n",
       "       'inq_last_6mths', 'mths_since_last_delinq', 'open_acc', 'pub_rec',\n",
       "       'revol_bal', 'revol_util', 'total_acc', 'total_pymnt',\n",
       "       'total_pymnt_inv', 'total_rec_prncp', 'total_rec_int',\n",
       "       'last_pymnt_amnt', 'repay_fail'],\n",
       "      dtype='object')"
      ]
     },
     "execution_count": 30,
     "metadata": {},
     "output_type": "execute_result"
    }
   ],
   "source": [
    "loan_dropped.columns"
   ]
  },
  {
   "cell_type": "code",
   "execution_count": 31,
   "id": "6c13b309",
   "metadata": {},
   "outputs": [
    {
     "data": {
      "text/plain": [
       "0.0000    949\n",
       "0.0010     60\n",
       "0.0020     60\n",
       "0.7040     59\n",
       "0.3530     57\n",
       "         ... \n",
       "0.2489      1\n",
       "0.8131      1\n",
       "1.0620      1\n",
       "0.5877      1\n",
       "0.1602      1\n",
       "Name: revol_util, Length: 1109, dtype: int64"
      ]
     },
     "execution_count": 31,
     "metadata": {},
     "output_type": "execute_result"
    }
   ],
   "source": [
    "loan_dropped['revol_util'].value_counts()"
   ]
  },
  {
   "cell_type": "code",
   "execution_count": 32,
   "id": "414b4827",
   "metadata": {},
   "outputs": [
    {
     "data": {
      "text/plain": [
       "Index(['loan_amnt', 'funded_amnt', 'term', 'int_rate', 'installment',\n",
       "       'emp_length', 'home_ownership', 'annual_inc', 'verification_status',\n",
       "       'loan_status', 'purpose', 'dti', 'delinq_2yrs', 'earliest_cr_line',\n",
       "       'inq_last_6mths', 'mths_since_last_delinq', 'open_acc', 'pub_rec',\n",
       "       'revol_bal', 'revol_util', 'total_acc', 'total_pymnt',\n",
       "       'total_pymnt_inv', 'total_rec_prncp', 'total_rec_int',\n",
       "       'last_pymnt_amnt', 'repay_fail'],\n",
       "      dtype='object')"
      ]
     },
     "execution_count": 32,
     "metadata": {},
     "output_type": "execute_result"
    }
   ],
   "source": [
    "loan_dropped.columns"
   ]
  },
  {
   "cell_type": "code",
   "execution_count": 55,
   "id": "9437d2ee",
   "metadata": {},
   "outputs": [],
   "source": [
    "loan_dropped=loan_dropped.dropna()"
   ]
  },
  {
   "cell_type": "code",
   "execution_count": 57,
   "id": "a52da357",
   "metadata": {},
   "outputs": [
    {
     "data": {
      "text/html": [
       "<div>\n",
       "<style scoped>\n",
       "    .dataframe tbody tr th:only-of-type {\n",
       "        vertical-align: middle;\n",
       "    }\n",
       "\n",
       "    .dataframe tbody tr th {\n",
       "        vertical-align: top;\n",
       "    }\n",
       "\n",
       "    .dataframe thead th {\n",
       "        text-align: right;\n",
       "    }\n",
       "</style>\n",
       "<table border=\"1\" class=\"dataframe\">\n",
       "  <thead>\n",
       "    <tr style=\"text-align: right;\">\n",
       "      <th></th>\n",
       "      <th>loan_amnt</th>\n",
       "      <th>funded_amnt</th>\n",
       "      <th>term</th>\n",
       "      <th>int_rate</th>\n",
       "      <th>installment</th>\n",
       "      <th>emp_length</th>\n",
       "      <th>home_ownership</th>\n",
       "      <th>annual_inc</th>\n",
       "      <th>verification_status</th>\n",
       "      <th>loan_status</th>\n",
       "      <th>...</th>\n",
       "      <th>pub_rec</th>\n",
       "      <th>revol_bal</th>\n",
       "      <th>revol_util</th>\n",
       "      <th>total_acc</th>\n",
       "      <th>total_pymnt</th>\n",
       "      <th>total_pymnt_inv</th>\n",
       "      <th>total_rec_prncp</th>\n",
       "      <th>total_rec_int</th>\n",
       "      <th>last_pymnt_amnt</th>\n",
       "      <th>repay_fail</th>\n",
       "    </tr>\n",
       "  </thead>\n",
       "  <tbody>\n",
       "    <tr>\n",
       "      <th>2</th>\n",
       "      <td>5000.0</td>\n",
       "      <td>5000.0</td>\n",
       "      <td>36</td>\n",
       "      <td>15.95</td>\n",
       "      <td>175.67</td>\n",
       "      <td>4.0</td>\n",
       "      <td>RENT</td>\n",
       "      <td>59000.0</td>\n",
       "      <td>0</td>\n",
       "      <td>Charged Off</td>\n",
       "      <td>...</td>\n",
       "      <td>0.0</td>\n",
       "      <td>18773.0</td>\n",
       "      <td>0.999</td>\n",
       "      <td>15.0</td>\n",
       "      <td>2948.760000</td>\n",
       "      <td>2948.76</td>\n",
       "      <td>1909.02</td>\n",
       "      <td>873.81</td>\n",
       "      <td>175.67</td>\n",
       "      <td>1</td>\n",
       "    </tr>\n",
       "    <tr>\n",
       "      <th>3</th>\n",
       "      <td>7000.0</td>\n",
       "      <td>7000.0</td>\n",
       "      <td>36</td>\n",
       "      <td>9.91</td>\n",
       "      <td>225.58</td>\n",
       "      <td>10.0</td>\n",
       "      <td>MORTGAGE</td>\n",
       "      <td>53796.0</td>\n",
       "      <td>0</td>\n",
       "      <td>Fully Paid</td>\n",
       "      <td>...</td>\n",
       "      <td>0.0</td>\n",
       "      <td>3269.0</td>\n",
       "      <td>0.472</td>\n",
       "      <td>20.0</td>\n",
       "      <td>8082.391880</td>\n",
       "      <td>8082.39</td>\n",
       "      <td>7000.00</td>\n",
       "      <td>1082.39</td>\n",
       "      <td>1550.27</td>\n",
       "      <td>0</td>\n",
       "    </tr>\n",
       "    <tr>\n",
       "      <th>4</th>\n",
       "      <td>2000.0</td>\n",
       "      <td>2000.0</td>\n",
       "      <td>36</td>\n",
       "      <td>5.42</td>\n",
       "      <td>60.32</td>\n",
       "      <td>10.0</td>\n",
       "      <td>RENT</td>\n",
       "      <td>30000.0</td>\n",
       "      <td>0</td>\n",
       "      <td>Fully Paid</td>\n",
       "      <td>...</td>\n",
       "      <td>0.0</td>\n",
       "      <td>0.0</td>\n",
       "      <td>0</td>\n",
       "      <td>15.0</td>\n",
       "      <td>2161.663244</td>\n",
       "      <td>2161.66</td>\n",
       "      <td>2000.00</td>\n",
       "      <td>161.66</td>\n",
       "      <td>53.12</td>\n",
       "      <td>0</td>\n",
       "    </tr>\n",
       "    <tr>\n",
       "      <th>5</th>\n",
       "      <td>3600.0</td>\n",
       "      <td>3600.0</td>\n",
       "      <td>36</td>\n",
       "      <td>10.25</td>\n",
       "      <td>116.59</td>\n",
       "      <td>10.0</td>\n",
       "      <td>MORTGAGE</td>\n",
       "      <td>675048.0</td>\n",
       "      <td>0</td>\n",
       "      <td>Fully Paid</td>\n",
       "      <td>...</td>\n",
       "      <td>0.0</td>\n",
       "      <td>0.0</td>\n",
       "      <td>0</td>\n",
       "      <td>25.0</td>\n",
       "      <td>4206.031191</td>\n",
       "      <td>4206.03</td>\n",
       "      <td>3600.00</td>\n",
       "      <td>606.03</td>\n",
       "      <td>146.75</td>\n",
       "      <td>0</td>\n",
       "    </tr>\n",
       "    <tr>\n",
       "      <th>9</th>\n",
       "      <td>19750.0</td>\n",
       "      <td>19750.0</td>\n",
       "      <td>60</td>\n",
       "      <td>23.22</td>\n",
       "      <td>559.27</td>\n",
       "      <td>10.0</td>\n",
       "      <td>MORTGAGE</td>\n",
       "      <td>72500.0</td>\n",
       "      <td>1</td>\n",
       "      <td>Fully Paid</td>\n",
       "      <td>...</td>\n",
       "      <td>0.0</td>\n",
       "      <td>21544.0</td>\n",
       "      <td>0.987</td>\n",
       "      <td>44.0</td>\n",
       "      <td>27544.891160</td>\n",
       "      <td>27544.89</td>\n",
       "      <td>19750.00</td>\n",
       "      <td>7794.89</td>\n",
       "      <td>15264.34</td>\n",
       "      <td>0</td>\n",
       "    </tr>\n",
       "    <tr>\n",
       "      <th>...</th>\n",
       "      <td>...</td>\n",
       "      <td>...</td>\n",
       "      <td>...</td>\n",
       "      <td>...</td>\n",
       "      <td>...</td>\n",
       "      <td>...</td>\n",
       "      <td>...</td>\n",
       "      <td>...</td>\n",
       "      <td>...</td>\n",
       "      <td>...</td>\n",
       "      <td>...</td>\n",
       "      <td>...</td>\n",
       "      <td>...</td>\n",
       "      <td>...</td>\n",
       "      <td>...</td>\n",
       "      <td>...</td>\n",
       "      <td>...</td>\n",
       "      <td>...</td>\n",
       "      <td>...</td>\n",
       "      <td>...</td>\n",
       "      <td>...</td>\n",
       "    </tr>\n",
       "    <tr>\n",
       "      <th>38468</th>\n",
       "      <td>7000.0</td>\n",
       "      <td>5050.0</td>\n",
       "      <td>36</td>\n",
       "      <td>11.59</td>\n",
       "      <td>166.75</td>\n",
       "      <td>0.0</td>\n",
       "      <td>RENT</td>\n",
       "      <td>44556.0</td>\n",
       "      <td>0</td>\n",
       "      <td>Fully Paid</td>\n",
       "      <td>...</td>\n",
       "      <td>0.0</td>\n",
       "      <td>9387.0</td>\n",
       "      <td>0.502</td>\n",
       "      <td>48.0</td>\n",
       "      <td>5795.921620</td>\n",
       "      <td>0.00</td>\n",
       "      <td>5050.00</td>\n",
       "      <td>745.92</td>\n",
       "      <td>0.37</td>\n",
       "      <td>0</td>\n",
       "    </tr>\n",
       "    <tr>\n",
       "      <th>38470</th>\n",
       "      <td>4000.0</td>\n",
       "      <td>4000.0</td>\n",
       "      <td>36</td>\n",
       "      <td>14.27</td>\n",
       "      <td>137.24</td>\n",
       "      <td>6.0</td>\n",
       "      <td>MORTGAGE</td>\n",
       "      <td>50000.0</td>\n",
       "      <td>0</td>\n",
       "      <td>Fully Paid</td>\n",
       "      <td>...</td>\n",
       "      <td>0.0</td>\n",
       "      <td>17561.0</td>\n",
       "      <td>0.636</td>\n",
       "      <td>43.0</td>\n",
       "      <td>4940.450000</td>\n",
       "      <td>4940.45</td>\n",
       "      <td>4000.00</td>\n",
       "      <td>940.45</td>\n",
       "      <td>149.24</td>\n",
       "      <td>0</td>\n",
       "    </tr>\n",
       "    <tr>\n",
       "      <th>38472</th>\n",
       "      <td>7200.0</td>\n",
       "      <td>7200.0</td>\n",
       "      <td>36</td>\n",
       "      <td>15.05</td>\n",
       "      <td>249.78</td>\n",
       "      <td>4.0</td>\n",
       "      <td>OTHER</td>\n",
       "      <td>75000.0</td>\n",
       "      <td>1</td>\n",
       "      <td>Fully Paid</td>\n",
       "      <td>...</td>\n",
       "      <td>0.0</td>\n",
       "      <td>17321.0</td>\n",
       "      <td>0.876</td>\n",
       "      <td>11.0</td>\n",
       "      <td>8991.939341</td>\n",
       "      <td>8991.94</td>\n",
       "      <td>7200.00</td>\n",
       "      <td>1791.94</td>\n",
       "      <td>251.68</td>\n",
       "      <td>0</td>\n",
       "    </tr>\n",
       "    <tr>\n",
       "      <th>38474</th>\n",
       "      <td>6925.0</td>\n",
       "      <td>6925.0</td>\n",
       "      <td>36</td>\n",
       "      <td>9.62</td>\n",
       "      <td>222.22</td>\n",
       "      <td>0.0</td>\n",
       "      <td>RENT</td>\n",
       "      <td>78000.0</td>\n",
       "      <td>1</td>\n",
       "      <td>Charged Off</td>\n",
       "      <td>...</td>\n",
       "      <td>0.0</td>\n",
       "      <td>7297.0</td>\n",
       "      <td>0.343</td>\n",
       "      <td>22.0</td>\n",
       "      <td>6108.790000</td>\n",
       "      <td>6086.77</td>\n",
       "      <td>4994.45</td>\n",
       "      <td>995.23</td>\n",
       "      <td>222.22</td>\n",
       "      <td>1</td>\n",
       "    </tr>\n",
       "    <tr>\n",
       "      <th>38479</th>\n",
       "      <td>3200.0</td>\n",
       "      <td>3200.0</td>\n",
       "      <td>36</td>\n",
       "      <td>13.49</td>\n",
       "      <td>108.58</td>\n",
       "      <td>7.0</td>\n",
       "      <td>RENT</td>\n",
       "      <td>38400.0</td>\n",
       "      <td>1</td>\n",
       "      <td>Fully Paid</td>\n",
       "      <td>...</td>\n",
       "      <td>1.0</td>\n",
       "      <td>2503.0</td>\n",
       "      <td>0.626</td>\n",
       "      <td>18.0</td>\n",
       "      <td>3908.767275</td>\n",
       "      <td>3908.77</td>\n",
       "      <td>3200.00</td>\n",
       "      <td>708.77</td>\n",
       "      <td>111.88</td>\n",
       "      <td>0</td>\n",
       "    </tr>\n",
       "  </tbody>\n",
       "</table>\n",
       "<p>13779 rows × 27 columns</p>\n",
       "</div>"
      ],
      "text/plain": [
       "       loan_amnt  funded_amnt  term  int_rate  installment  emp_length  \\\n",
       "2         5000.0       5000.0    36     15.95       175.67         4.0   \n",
       "3         7000.0       7000.0    36      9.91       225.58        10.0   \n",
       "4         2000.0       2000.0    36      5.42        60.32        10.0   \n",
       "5         3600.0       3600.0    36     10.25       116.59        10.0   \n",
       "9        19750.0      19750.0    60     23.22       559.27        10.0   \n",
       "...          ...          ...   ...       ...          ...         ...   \n",
       "38468     7000.0       5050.0    36     11.59       166.75         0.0   \n",
       "38470     4000.0       4000.0    36     14.27       137.24         6.0   \n",
       "38472     7200.0       7200.0    36     15.05       249.78         4.0   \n",
       "38474     6925.0       6925.0    36      9.62       222.22         0.0   \n",
       "38479     3200.0       3200.0    36     13.49       108.58         7.0   \n",
       "\n",
       "      home_ownership  annual_inc  verification_status  loan_status  ...  \\\n",
       "2               RENT     59000.0                    0  Charged Off  ...   \n",
       "3           MORTGAGE     53796.0                    0   Fully Paid  ...   \n",
       "4               RENT     30000.0                    0   Fully Paid  ...   \n",
       "5           MORTGAGE    675048.0                    0   Fully Paid  ...   \n",
       "9           MORTGAGE     72500.0                    1   Fully Paid  ...   \n",
       "...              ...         ...                  ...          ...  ...   \n",
       "38468           RENT     44556.0                    0   Fully Paid  ...   \n",
       "38470       MORTGAGE     50000.0                    0   Fully Paid  ...   \n",
       "38472          OTHER     75000.0                    1   Fully Paid  ...   \n",
       "38474           RENT     78000.0                    1  Charged Off  ...   \n",
       "38479           RENT     38400.0                    1   Fully Paid  ...   \n",
       "\n",
       "      pub_rec  revol_bal  revol_util total_acc   total_pymnt  total_pymnt_inv  \\\n",
       "2         0.0    18773.0       0.999      15.0   2948.760000          2948.76   \n",
       "3         0.0     3269.0       0.472      20.0   8082.391880          8082.39   \n",
       "4         0.0        0.0           0      15.0   2161.663244          2161.66   \n",
       "5         0.0        0.0           0      25.0   4206.031191          4206.03   \n",
       "9         0.0    21544.0       0.987      44.0  27544.891160         27544.89   \n",
       "...       ...        ...         ...       ...           ...              ...   \n",
       "38468     0.0     9387.0       0.502      48.0   5795.921620             0.00   \n",
       "38470     0.0    17561.0       0.636      43.0   4940.450000          4940.45   \n",
       "38472     0.0    17321.0       0.876      11.0   8991.939341          8991.94   \n",
       "38474     0.0     7297.0       0.343      22.0   6108.790000          6086.77   \n",
       "38479     1.0     2503.0       0.626      18.0   3908.767275          3908.77   \n",
       "\n",
       "       total_rec_prncp  total_rec_int  last_pymnt_amnt repay_fail  \n",
       "2              1909.02         873.81           175.67          1  \n",
       "3              7000.00        1082.39          1550.27          0  \n",
       "4              2000.00         161.66            53.12          0  \n",
       "5              3600.00         606.03           146.75          0  \n",
       "9             19750.00        7794.89         15264.34          0  \n",
       "...                ...            ...              ...        ...  \n",
       "38468          5050.00         745.92             0.37          0  \n",
       "38470          4000.00         940.45           149.24          0  \n",
       "38472          7200.00        1791.94           251.68          0  \n",
       "38474          4994.45         995.23           222.22          1  \n",
       "38479          3200.00         708.77           111.88          0  \n",
       "\n",
       "[13779 rows x 27 columns]"
      ]
     },
     "execution_count": 57,
     "metadata": {},
     "output_type": "execute_result"
    }
   ],
   "source": [
    "loan_dropped"
   ]
  },
  {
   "cell_type": "code",
   "execution_count": 58,
   "id": "85aa1c1d",
   "metadata": {},
   "outputs": [],
   "source": [
    "# Split Data\n",
    "X = loan_dropped[['loan_amnt', 'funded_amnt', 'term', 'int_rate', 'installment',\n",
    "       'emp_length', 'home_ownership', 'annual_inc', 'verification_status',\n",
    "       'loan_status', 'purpose']]\n",
    "y = loan_dropped['loan_status']\n",
    "X_train, X_test, y_train, y_test = train_test_split(X, y, test_size=0.2, random_state=0)"
   ]
  },
  {
   "cell_type": "code",
   "execution_count": 59,
   "id": "68abdf29",
   "metadata": {},
   "outputs": [
    {
     "data": {
      "text/html": [
       "<div>\n",
       "<style scoped>\n",
       "    .dataframe tbody tr th:only-of-type {\n",
       "        vertical-align: middle;\n",
       "    }\n",
       "\n",
       "    .dataframe tbody tr th {\n",
       "        vertical-align: top;\n",
       "    }\n",
       "\n",
       "    .dataframe thead th {\n",
       "        text-align: right;\n",
       "    }\n",
       "</style>\n",
       "<table border=\"1\" class=\"dataframe\">\n",
       "  <thead>\n",
       "    <tr style=\"text-align: right;\">\n",
       "      <th></th>\n",
       "      <th>loan_amnt</th>\n",
       "      <th>funded_amnt</th>\n",
       "      <th>term</th>\n",
       "      <th>int_rate</th>\n",
       "      <th>installment</th>\n",
       "      <th>emp_length</th>\n",
       "      <th>home_ownership</th>\n",
       "      <th>annual_inc</th>\n",
       "      <th>verification_status</th>\n",
       "      <th>loan_status</th>\n",
       "      <th>purpose</th>\n",
       "    </tr>\n",
       "  </thead>\n",
       "  <tbody>\n",
       "    <tr>\n",
       "      <th>2</th>\n",
       "      <td>5000.0</td>\n",
       "      <td>5000.0</td>\n",
       "      <td>36</td>\n",
       "      <td>15.95</td>\n",
       "      <td>175.67</td>\n",
       "      <td>4.0</td>\n",
       "      <td>RENT</td>\n",
       "      <td>59000.0</td>\n",
       "      <td>0</td>\n",
       "      <td>Charged Off</td>\n",
       "      <td>debt_consolidation</td>\n",
       "    </tr>\n",
       "    <tr>\n",
       "      <th>3</th>\n",
       "      <td>7000.0</td>\n",
       "      <td>7000.0</td>\n",
       "      <td>36</td>\n",
       "      <td>9.91</td>\n",
       "      <td>225.58</td>\n",
       "      <td>10.0</td>\n",
       "      <td>MORTGAGE</td>\n",
       "      <td>53796.0</td>\n",
       "      <td>0</td>\n",
       "      <td>Fully Paid</td>\n",
       "      <td>other</td>\n",
       "    </tr>\n",
       "    <tr>\n",
       "      <th>4</th>\n",
       "      <td>2000.0</td>\n",
       "      <td>2000.0</td>\n",
       "      <td>36</td>\n",
       "      <td>5.42</td>\n",
       "      <td>60.32</td>\n",
       "      <td>10.0</td>\n",
       "      <td>RENT</td>\n",
       "      <td>30000.0</td>\n",
       "      <td>0</td>\n",
       "      <td>Fully Paid</td>\n",
       "      <td>debt_consolidation</td>\n",
       "    </tr>\n",
       "    <tr>\n",
       "      <th>5</th>\n",
       "      <td>3600.0</td>\n",
       "      <td>3600.0</td>\n",
       "      <td>36</td>\n",
       "      <td>10.25</td>\n",
       "      <td>116.59</td>\n",
       "      <td>10.0</td>\n",
       "      <td>MORTGAGE</td>\n",
       "      <td>675048.0</td>\n",
       "      <td>0</td>\n",
       "      <td>Fully Paid</td>\n",
       "      <td>other</td>\n",
       "    </tr>\n",
       "    <tr>\n",
       "      <th>9</th>\n",
       "      <td>19750.0</td>\n",
       "      <td>19750.0</td>\n",
       "      <td>60</td>\n",
       "      <td>23.22</td>\n",
       "      <td>559.27</td>\n",
       "      <td>10.0</td>\n",
       "      <td>MORTGAGE</td>\n",
       "      <td>72500.0</td>\n",
       "      <td>1</td>\n",
       "      <td>Fully Paid</td>\n",
       "      <td>debt_consolidation</td>\n",
       "    </tr>\n",
       "    <tr>\n",
       "      <th>...</th>\n",
       "      <td>...</td>\n",
       "      <td>...</td>\n",
       "      <td>...</td>\n",
       "      <td>...</td>\n",
       "      <td>...</td>\n",
       "      <td>...</td>\n",
       "      <td>...</td>\n",
       "      <td>...</td>\n",
       "      <td>...</td>\n",
       "      <td>...</td>\n",
       "      <td>...</td>\n",
       "    </tr>\n",
       "    <tr>\n",
       "      <th>38468</th>\n",
       "      <td>7000.0</td>\n",
       "      <td>5050.0</td>\n",
       "      <td>36</td>\n",
       "      <td>11.59</td>\n",
       "      <td>166.75</td>\n",
       "      <td>0.0</td>\n",
       "      <td>RENT</td>\n",
       "      <td>44556.0</td>\n",
       "      <td>0</td>\n",
       "      <td>Fully Paid</td>\n",
       "      <td>debt_consolidation</td>\n",
       "    </tr>\n",
       "    <tr>\n",
       "      <th>38470</th>\n",
       "      <td>4000.0</td>\n",
       "      <td>4000.0</td>\n",
       "      <td>36</td>\n",
       "      <td>14.27</td>\n",
       "      <td>137.24</td>\n",
       "      <td>6.0</td>\n",
       "      <td>MORTGAGE</td>\n",
       "      <td>50000.0</td>\n",
       "      <td>0</td>\n",
       "      <td>Fully Paid</td>\n",
       "      <td>credit_card</td>\n",
       "    </tr>\n",
       "    <tr>\n",
       "      <th>38472</th>\n",
       "      <td>7200.0</td>\n",
       "      <td>7200.0</td>\n",
       "      <td>36</td>\n",
       "      <td>15.05</td>\n",
       "      <td>249.78</td>\n",
       "      <td>4.0</td>\n",
       "      <td>OTHER</td>\n",
       "      <td>75000.0</td>\n",
       "      <td>1</td>\n",
       "      <td>Fully Paid</td>\n",
       "      <td>debt_consolidation</td>\n",
       "    </tr>\n",
       "    <tr>\n",
       "      <th>38474</th>\n",
       "      <td>6925.0</td>\n",
       "      <td>6925.0</td>\n",
       "      <td>36</td>\n",
       "      <td>9.62</td>\n",
       "      <td>222.22</td>\n",
       "      <td>0.0</td>\n",
       "      <td>RENT</td>\n",
       "      <td>78000.0</td>\n",
       "      <td>1</td>\n",
       "      <td>Charged Off</td>\n",
       "      <td>debt_consolidation</td>\n",
       "    </tr>\n",
       "    <tr>\n",
       "      <th>38479</th>\n",
       "      <td>3200.0</td>\n",
       "      <td>3200.0</td>\n",
       "      <td>36</td>\n",
       "      <td>13.49</td>\n",
       "      <td>108.58</td>\n",
       "      <td>7.0</td>\n",
       "      <td>RENT</td>\n",
       "      <td>38400.0</td>\n",
       "      <td>1</td>\n",
       "      <td>Fully Paid</td>\n",
       "      <td>debt_consolidation</td>\n",
       "    </tr>\n",
       "  </tbody>\n",
       "</table>\n",
       "<p>13779 rows × 11 columns</p>\n",
       "</div>"
      ],
      "text/plain": [
       "       loan_amnt  funded_amnt  term  int_rate  installment  emp_length  \\\n",
       "2         5000.0       5000.0    36     15.95       175.67         4.0   \n",
       "3         7000.0       7000.0    36      9.91       225.58        10.0   \n",
       "4         2000.0       2000.0    36      5.42        60.32        10.0   \n",
       "5         3600.0       3600.0    36     10.25       116.59        10.0   \n",
       "9        19750.0      19750.0    60     23.22       559.27        10.0   \n",
       "...          ...          ...   ...       ...          ...         ...   \n",
       "38468     7000.0       5050.0    36     11.59       166.75         0.0   \n",
       "38470     4000.0       4000.0    36     14.27       137.24         6.0   \n",
       "38472     7200.0       7200.0    36     15.05       249.78         4.0   \n",
       "38474     6925.0       6925.0    36      9.62       222.22         0.0   \n",
       "38479     3200.0       3200.0    36     13.49       108.58         7.0   \n",
       "\n",
       "      home_ownership  annual_inc  verification_status  loan_status  \\\n",
       "2               RENT     59000.0                    0  Charged Off   \n",
       "3           MORTGAGE     53796.0                    0   Fully Paid   \n",
       "4               RENT     30000.0                    0   Fully Paid   \n",
       "5           MORTGAGE    675048.0                    0   Fully Paid   \n",
       "9           MORTGAGE     72500.0                    1   Fully Paid   \n",
       "...              ...         ...                  ...          ...   \n",
       "38468           RENT     44556.0                    0   Fully Paid   \n",
       "38470       MORTGAGE     50000.0                    0   Fully Paid   \n",
       "38472          OTHER     75000.0                    1   Fully Paid   \n",
       "38474           RENT     78000.0                    1  Charged Off   \n",
       "38479           RENT     38400.0                    1   Fully Paid   \n",
       "\n",
       "                  purpose  \n",
       "2      debt_consolidation  \n",
       "3                   other  \n",
       "4      debt_consolidation  \n",
       "5                   other  \n",
       "9      debt_consolidation  \n",
       "...                   ...  \n",
       "38468  debt_consolidation  \n",
       "38470         credit_card  \n",
       "38472  debt_consolidation  \n",
       "38474  debt_consolidation  \n",
       "38479  debt_consolidation  \n",
       "\n",
       "[13779 rows x 11 columns]"
      ]
     },
     "execution_count": 59,
     "metadata": {},
     "output_type": "execute_result"
    }
   ],
   "source": [
    "X"
   ]
  },
  {
   "cell_type": "code",
   "execution_count": 60,
   "id": "2626da0b",
   "metadata": {},
   "outputs": [],
   "source": [
    "\n",
    "# Create Dummy Variables\n",
    "X_train_encoded = pd.get_dummies(X_train, drop_first=True)\n",
    "X_test_encoded = pd.get_dummies(X_test, drop_first=True)"
   ]
  },
  {
   "cell_type": "code",
   "execution_count": 61,
   "id": "4ff91826",
   "metadata": {},
   "outputs": [
    {
     "name": "stderr",
     "output_type": "stream",
     "text": [
      "C:\\Users\\Comfinite\\anaconda3\\Lib\\site-packages\\sklearn\\linear_model\\_logistic.py:458: ConvergenceWarning: lbfgs failed to converge (status=1):\n",
      "STOP: TOTAL NO. of ITERATIONS REACHED LIMIT.\n",
      "\n",
      "Increase the number of iterations (max_iter) or scale the data as shown in:\n",
      "    https://scikit-learn.org/stable/modules/preprocessing.html\n",
      "Please also refer to the documentation for alternative solver options:\n",
      "    https://scikit-learn.org/stable/modules/linear_model.html#logistic-regression\n",
      "  n_iter_i = _check_optimize_result(\n"
     ]
    },
    {
     "data": {
      "text/html": [
       "<style>#sk-container-id-1 {color: black;background-color: white;}#sk-container-id-1 pre{padding: 0;}#sk-container-id-1 div.sk-toggleable {background-color: white;}#sk-container-id-1 label.sk-toggleable__label {cursor: pointer;display: block;width: 100%;margin-bottom: 0;padding: 0.3em;box-sizing: border-box;text-align: center;}#sk-container-id-1 label.sk-toggleable__label-arrow:before {content: \"▸\";float: left;margin-right: 0.25em;color: #696969;}#sk-container-id-1 label.sk-toggleable__label-arrow:hover:before {color: black;}#sk-container-id-1 div.sk-estimator:hover label.sk-toggleable__label-arrow:before {color: black;}#sk-container-id-1 div.sk-toggleable__content {max-height: 0;max-width: 0;overflow: hidden;text-align: left;background-color: #f0f8ff;}#sk-container-id-1 div.sk-toggleable__content pre {margin: 0.2em;color: black;border-radius: 0.25em;background-color: #f0f8ff;}#sk-container-id-1 input.sk-toggleable__control:checked~div.sk-toggleable__content {max-height: 200px;max-width: 100%;overflow: auto;}#sk-container-id-1 input.sk-toggleable__control:checked~label.sk-toggleable__label-arrow:before {content: \"▾\";}#sk-container-id-1 div.sk-estimator input.sk-toggleable__control:checked~label.sk-toggleable__label {background-color: #d4ebff;}#sk-container-id-1 div.sk-label input.sk-toggleable__control:checked~label.sk-toggleable__label {background-color: #d4ebff;}#sk-container-id-1 input.sk-hidden--visually {border: 0;clip: rect(1px 1px 1px 1px);clip: rect(1px, 1px, 1px, 1px);height: 1px;margin: -1px;overflow: hidden;padding: 0;position: absolute;width: 1px;}#sk-container-id-1 div.sk-estimator {font-family: monospace;background-color: #f0f8ff;border: 1px dotted black;border-radius: 0.25em;box-sizing: border-box;margin-bottom: 0.5em;}#sk-container-id-1 div.sk-estimator:hover {background-color: #d4ebff;}#sk-container-id-1 div.sk-parallel-item::after {content: \"\";width: 100%;border-bottom: 1px solid gray;flex-grow: 1;}#sk-container-id-1 div.sk-label:hover label.sk-toggleable__label {background-color: #d4ebff;}#sk-container-id-1 div.sk-serial::before {content: \"\";position: absolute;border-left: 1px solid gray;box-sizing: border-box;top: 0;bottom: 0;left: 50%;z-index: 0;}#sk-container-id-1 div.sk-serial {display: flex;flex-direction: column;align-items: center;background-color: white;padding-right: 0.2em;padding-left: 0.2em;position: relative;}#sk-container-id-1 div.sk-item {position: relative;z-index: 1;}#sk-container-id-1 div.sk-parallel {display: flex;align-items: stretch;justify-content: center;background-color: white;position: relative;}#sk-container-id-1 div.sk-item::before, #sk-container-id-1 div.sk-parallel-item::before {content: \"\";position: absolute;border-left: 1px solid gray;box-sizing: border-box;top: 0;bottom: 0;left: 50%;z-index: -1;}#sk-container-id-1 div.sk-parallel-item {display: flex;flex-direction: column;z-index: 1;position: relative;background-color: white;}#sk-container-id-1 div.sk-parallel-item:first-child::after {align-self: flex-end;width: 50%;}#sk-container-id-1 div.sk-parallel-item:last-child::after {align-self: flex-start;width: 50%;}#sk-container-id-1 div.sk-parallel-item:only-child::after {width: 0;}#sk-container-id-1 div.sk-dashed-wrapped {border: 1px dashed gray;margin: 0 0.4em 0.5em 0.4em;box-sizing: border-box;padding-bottom: 0.4em;background-color: white;}#sk-container-id-1 div.sk-label label {font-family: monospace;font-weight: bold;display: inline-block;line-height: 1.2em;}#sk-container-id-1 div.sk-label-container {text-align: center;}#sk-container-id-1 div.sk-container {/* jupyter's `normalize.less` sets `[hidden] { display: none; }` but bootstrap.min.css set `[hidden] { display: none !important; }` so we also need the `!important` here to be able to override the default hidden behavior on the sphinx rendered scikit-learn.org. See: https://github.com/scikit-learn/scikit-learn/issues/21755 */display: inline-block !important;position: relative;}#sk-container-id-1 div.sk-text-repr-fallback {display: none;}</style><div id=\"sk-container-id-1\" class=\"sk-top-container\"><div class=\"sk-text-repr-fallback\"><pre>LogisticRegression()</pre><b>In a Jupyter environment, please rerun this cell to show the HTML representation or trust the notebook. <br />On GitHub, the HTML representation is unable to render, please try loading this page with nbviewer.org.</b></div><div class=\"sk-container\" hidden><div class=\"sk-item\"><div class=\"sk-estimator sk-toggleable\"><input class=\"sk-toggleable__control sk-hidden--visually\" id=\"sk-estimator-id-1\" type=\"checkbox\" checked><label for=\"sk-estimator-id-1\" class=\"sk-toggleable__label sk-toggleable__label-arrow\">LogisticRegression</label><div class=\"sk-toggleable__content\"><pre>LogisticRegression()</pre></div></div></div></div></div>"
      ],
      "text/plain": [
       "LogisticRegression()"
      ]
     },
     "execution_count": 61,
     "metadata": {},
     "output_type": "execute_result"
    }
   ],
   "source": [
    "# Create a logistic regression model\n",
    "logistic_regression_model = LogisticRegression()\n",
    "\n",
    "# Fit the model on the training data\n",
    "logistic_regression_model.fit(X_train_encoded, y_train)"
   ]
  },
  {
   "cell_type": "code",
   "execution_count": 63,
   "id": "ca6792e7",
   "metadata": {},
   "outputs": [],
   "source": [
    "\n",
    "\n",
    "# Predict and Evaluate\n",
    "y_pred = logistic_regression_model.predict(X_test_encoded)\n",
    "conf_matrix = confusion_matrix(y_test, y_pred)\n"
   ]
  },
  {
   "cell_type": "code",
   "execution_count": 64,
   "id": "21422344",
   "metadata": {},
   "outputs": [
    {
     "data": {
      "text/plain": [
       "array([[   2,    0,  442,    0],\n",
       "       [   2,    0,   49,    0],\n",
       "       [   6,    0, 2252,    0],\n",
       "       [   0,    0,    3,    0]], dtype=int64)"
      ]
     },
     "execution_count": 64,
     "metadata": {},
     "output_type": "execute_result"
    }
   ],
   "source": [
    "conf_matrix"
   ]
  },
  {
   "cell_type": "code",
   "execution_count": 65,
   "id": "498eb677",
   "metadata": {},
   "outputs": [
    {
     "name": "stdout",
     "output_type": "stream",
     "text": [
      "              precision    recall  f1-score   support\n",
      "\n",
      " Charged Off       0.20      0.00      0.01       444\n",
      "     Current       0.00      0.00      0.00        51\n",
      "  Fully Paid       0.82      1.00      0.90      2258\n",
      "        Late       0.00      0.00      0.00         3\n",
      "\n",
      "    accuracy                           0.82      2756\n",
      "   macro avg       0.26      0.25      0.23      2756\n",
      "weighted avg       0.70      0.82      0.74      2756\n",
      "\n"
     ]
    },
    {
     "name": "stderr",
     "output_type": "stream",
     "text": [
      "C:\\Users\\Comfinite\\anaconda3\\Lib\\site-packages\\sklearn\\metrics\\_classification.py:1344: UndefinedMetricWarning: Precision and F-score are ill-defined and being set to 0.0 in labels with no predicted samples. Use `zero_division` parameter to control this behavior.\n",
      "  _warn_prf(average, modifier, msg_start, len(result))\n",
      "C:\\Users\\Comfinite\\anaconda3\\Lib\\site-packages\\sklearn\\metrics\\_classification.py:1344: UndefinedMetricWarning: Precision and F-score are ill-defined and being set to 0.0 in labels with no predicted samples. Use `zero_division` parameter to control this behavior.\n",
      "  _warn_prf(average, modifier, msg_start, len(result))\n",
      "C:\\Users\\Comfinite\\anaconda3\\Lib\\site-packages\\sklearn\\metrics\\_classification.py:1344: UndefinedMetricWarning: Precision and F-score are ill-defined and being set to 0.0 in labels with no predicted samples. Use `zero_division` parameter to control this behavior.\n",
      "  _warn_prf(average, modifier, msg_start, len(result))\n"
     ]
    }
   ],
   "source": [
    "from sklearn.metrics import classification_report\n",
    "print(classification_report(y_test, y_pred))"
   ]
  }
 ],
 "metadata": {
  "kernelspec": {
   "display_name": "Python 3 (ipykernel)",
   "language": "python",
   "name": "python3"
  },
  "language_info": {
   "codemirror_mode": {
    "name": "ipython",
    "version": 3
   },
   "file_extension": ".py",
   "mimetype": "text/x-python",
   "name": "python",
   "nbconvert_exporter": "python",
   "pygments_lexer": "ipython3",
   "version": "3.11.3"
  }
 },
 "nbformat": 4,
 "nbformat_minor": 5
}
