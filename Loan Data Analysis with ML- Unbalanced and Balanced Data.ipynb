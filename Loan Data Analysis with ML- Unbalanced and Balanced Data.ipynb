{
 "cells": [
  {
   "cell_type": "markdown",
   "id": "93a80104",
   "metadata": {},
   "source": [
    "# ASSESSMENT PROJECT "
   ]
  },
  {
   "cell_type": "markdown",
   "id": "afc3e75a",
   "metadata": {},
   "source": [
    "\n",
    "# Import Libraries"
   ]
  },
  {
   "cell_type": "code",
   "execution_count": 1,
   "id": "21c2752e",
   "metadata": {},
   "outputs": [],
   "source": [
    "import pandas as pd\n",
    "import numpy as np\n",
    "import matplotlib.pyplot as plt\n",
    "import seaborn as sns\n",
    "from sklearn.model_selection import train_test_split\n",
    "from sklearn.linear_model import LogisticRegression\n",
    "from sklearn.metrics import confusion_matrix\n"
   ]
  },
  {
   "cell_type": "markdown",
   "id": "636a9ddc",
   "metadata": {},
   "source": [
    "# Load Data"
   ]
  },
  {
   "cell_type": "code",
   "execution_count": 2,
   "id": "7dea0e04",
   "metadata": {},
   "outputs": [],
   "source": [
    "columns_to_use = ['loan_amnt', 'funded_amnt', 'term', 'int_rate', 'installment',\n",
    "                  'emp_length', 'home_ownership', 'annual_inc', 'verification_status',\n",
    "                  'loan_status', 'purpose','repay_fail']\n",
    "\n",
    "loan = pd.read_excel('loan-data.xlsX', usecols=columns_to_use)"
   ]
  },
  {
   "cell_type": "markdown",
   "id": "c810645c",
   "metadata": {},
   "source": [
    "#      Understanding Data"
   ]
  },
  {
   "cell_type": "code",
   "execution_count": 3,
   "id": "aec39dd7",
   "metadata": {},
   "outputs": [
    {
     "data": {
      "text/plain": [
       "Index(['loan_amnt', 'funded_amnt', 'term', 'int_rate', 'installment',\n",
       "       'emp_length', 'home_ownership', 'annual_inc', 'verification_status',\n",
       "       'loan_status', 'purpose', 'repay_fail'],\n",
       "      dtype='object')"
      ]
     },
     "execution_count": 3,
     "metadata": {},
     "output_type": "execute_result"
    }
   ],
   "source": [
    "loan.columns"
   ]
  },
  {
   "cell_type": "code",
   "execution_count": 4,
   "id": "f0163031",
   "metadata": {},
   "outputs": [],
   "source": [
    "# loan.head()"
   ]
  },
  {
   "cell_type": "markdown",
   "id": "c22fcdc2",
   "metadata": {},
   "source": [
    "# Checking missing values"
   ]
  },
  {
   "cell_type": "code",
   "execution_count": 5,
   "id": "e044fdd8",
   "metadata": {},
   "outputs": [
    {
     "data": {
      "text/plain": [
       "loan_amnt                1\n",
       "funded_amnt              1\n",
       "term                     0\n",
       "int_rate                 0\n",
       "installment              1\n",
       "emp_length             993\n",
       "home_ownership           0\n",
       "annual_inc               2\n",
       "verification_status      0\n",
       "loan_status              0\n",
       "purpose                  0\n",
       "repay_fail               0\n",
       "dtype: int64"
      ]
     },
     "execution_count": 5,
     "metadata": {},
     "output_type": "execute_result"
    }
   ],
   "source": [
    "loan.isnull().sum()"
   ]
  },
  {
   "cell_type": "code",
   "execution_count": 6,
   "id": "0f1d1ee0",
   "metadata": {},
   "outputs": [],
   "source": [
    "loan=loan.dropna()"
   ]
  },
  {
   "cell_type": "code",
   "execution_count": 7,
   "id": "91452653",
   "metadata": {
    "scrolled": true
   },
   "outputs": [],
   "source": [
    "# loan.info()"
   ]
  },
  {
   "cell_type": "markdown",
   "id": "54f65215",
   "metadata": {},
   "source": [
    "# Clean Unnecessary Columns"
   ]
  },
  {
   "cell_type": "code",
   "execution_count": 8,
   "id": "4ae34551",
   "metadata": {},
   "outputs": [],
   "source": [
    "loan_dropped=loan"
   ]
  },
  {
   "cell_type": "code",
   "execution_count": 9,
   "id": "6765900e",
   "metadata": {},
   "outputs": [
    {
     "data": {
      "text/plain": [
       "array(['36 months', '60 months'], dtype=object)"
      ]
     },
     "execution_count": 9,
     "metadata": {},
     "output_type": "execute_result"
    }
   ],
   "source": [
    "loan_dropped['term'].unique()"
   ]
  },
  {
   "cell_type": "code",
   "execution_count": 10,
   "id": "f7be295f",
   "metadata": {},
   "outputs": [
    {
     "name": "stdout",
     "output_type": "stream",
     "text": [
      "<class 'pandas.core.frame.DataFrame'>\n",
      "Int64Index: 37485 entries, 0 to 38479\n",
      "Data columns (total 12 columns):\n",
      " #   Column               Non-Null Count  Dtype  \n",
      "---  ------               --------------  -----  \n",
      " 0   loan_amnt            37485 non-null  float64\n",
      " 1   funded_amnt          37485 non-null  float64\n",
      " 2   term                 37485 non-null  object \n",
      " 3   int_rate             37485 non-null  float64\n",
      " 4   installment          37485 non-null  float64\n",
      " 5   emp_length           37485 non-null  object \n",
      " 6   home_ownership       37485 non-null  object \n",
      " 7   annual_inc           37485 non-null  float64\n",
      " 8   verification_status  37485 non-null  object \n",
      " 9   loan_status          37485 non-null  object \n",
      " 10  purpose              37485 non-null  object \n",
      " 11  repay_fail           37485 non-null  int64  \n",
      "dtypes: float64(5), int64(1), object(6)\n",
      "memory usage: 3.7+ MB\n"
     ]
    }
   ],
   "source": [
    "loan_dropped.info()"
   ]
  },
  {
   "cell_type": "code",
   "execution_count": 11,
   "id": "cd11d19a",
   "metadata": {},
   "outputs": [],
   "source": [
    "loan_dropped['term']=loan_dropped['term'].str.split().str.get(0)"
   ]
  },
  {
   "cell_type": "code",
   "execution_count": 12,
   "id": "b0e51be1",
   "metadata": {},
   "outputs": [],
   "source": [
    "loan_dropped['term']=loan_dropped['term'].astype(int)"
   ]
  },
  {
   "cell_type": "code",
   "execution_count": 13,
   "id": "00af966c",
   "metadata": {},
   "outputs": [
    {
     "name": "stdout",
     "output_type": "stream",
     "text": [
      "<class 'pandas.core.frame.DataFrame'>\n",
      "Int64Index: 37485 entries, 0 to 38479\n",
      "Data columns (total 12 columns):\n",
      " #   Column               Non-Null Count  Dtype  \n",
      "---  ------               --------------  -----  \n",
      " 0   loan_amnt            37485 non-null  float64\n",
      " 1   funded_amnt          37485 non-null  float64\n",
      " 2   term                 37485 non-null  int32  \n",
      " 3   int_rate             37485 non-null  float64\n",
      " 4   installment          37485 non-null  float64\n",
      " 5   emp_length           37485 non-null  object \n",
      " 6   home_ownership       37485 non-null  object \n",
      " 7   annual_inc           37485 non-null  float64\n",
      " 8   verification_status  37485 non-null  object \n",
      " 9   loan_status          37485 non-null  object \n",
      " 10  purpose              37485 non-null  object \n",
      " 11  repay_fail           37485 non-null  int64  \n",
      "dtypes: float64(5), int32(1), int64(1), object(5)\n",
      "memory usage: 3.6+ MB\n"
     ]
    }
   ],
   "source": [
    "loan_dropped.info()"
   ]
  },
  {
   "cell_type": "code",
   "execution_count": 14,
   "id": "ad558069",
   "metadata": {},
   "outputs": [
    {
     "data": {
      "text/plain": [
       "array(['< 1 year', '4 years', '10+ years', '3 years', '5 years',\n",
       "       '7 years', '2 years', '1 year', '6 years', '9 years', '8 years'],\n",
       "      dtype=object)"
      ]
     },
     "execution_count": 14,
     "metadata": {},
     "output_type": "execute_result"
    }
   ],
   "source": [
    "loan_dropped['emp_length'].unique()"
   ]
  },
  {
   "cell_type": "code",
   "execution_count": 15,
   "id": "d14c3dd5",
   "metadata": {},
   "outputs": [],
   "source": [
    "emp_length_mapping = {\n",
    "    '< 1 year': 0,\n",
    "    '1 year': 1,\n",
    "    '2 years': 2,\n",
    "    '3 years': 3,\n",
    "    '4 years': 4,\n",
    "    '5 years': 5,\n",
    "    '6 years': 6,\n",
    "    '7 years': 7,\n",
    "    '8 years': 8,\n",
    "    '9 years': 9,\n",
    "    '10+ years': 10\n",
    "}\n",
    "\n",
    "# Use the mapping to replace the strings with integers\n",
    "loan_dropped['emp_length'] = loan_dropped['emp_length'].replace(emp_length_mapping)"
   ]
  },
  {
   "cell_type": "code",
   "execution_count": 16,
   "id": "37b78675",
   "metadata": {},
   "outputs": [
    {
     "data": {
      "text/plain": [
       "10    8464\n",
       "0     4565\n",
       "2     4292\n",
       "3     3939\n",
       "4     3314\n",
       "1     3254\n",
       "5     3170\n",
       "6     2144\n",
       "7     1702\n",
       "8     1445\n",
       "9     1196\n",
       "Name: emp_length, dtype: int64"
      ]
     },
     "execution_count": 16,
     "metadata": {},
     "output_type": "execute_result"
    }
   ],
   "source": [
    "loan_dropped['emp_length'].value_counts()"
   ]
  },
  {
   "cell_type": "code",
   "execution_count": 17,
   "id": "324f7e3b",
   "metadata": {},
   "outputs": [],
   "source": [
    "# loan_dropped.info()"
   ]
  },
  {
   "cell_type": "code",
   "execution_count": 18,
   "id": "ed0eff62",
   "metadata": {},
   "outputs": [],
   "source": [
    "loan_dropped['emp_length']=loan_dropped['emp_length'].astype(float)"
   ]
  },
  {
   "cell_type": "code",
   "execution_count": 19,
   "id": "4864694a",
   "metadata": {},
   "outputs": [],
   "source": [
    "# loan_dropped.info()"
   ]
  },
  {
   "cell_type": "code",
   "execution_count": 20,
   "id": "6012c22e",
   "metadata": {},
   "outputs": [
    {
     "data": {
      "text/plain": [
       "array(['Not Verified', 'Verified', 'Source Verified'], dtype=object)"
      ]
     },
     "execution_count": 20,
     "metadata": {},
     "output_type": "execute_result"
    }
   ],
   "source": [
    "loan_dropped['verification_status'].unique()"
   ]
  },
  {
   "cell_type": "code",
   "execution_count": null,
   "id": "ffa77394",
   "metadata": {},
   "outputs": [],
   "source": []
  },
  {
   "cell_type": "code",
   "execution_count": 21,
   "id": "37184214",
   "metadata": {},
   "outputs": [],
   "source": [
    "verification_status_mapping = {\n",
    "    'Not Verified': 0,\n",
    "    'Verified': 1,\n",
    "    'Source Verified': 1\n",
    "}\n",
    "\n",
    "loan_dropped['verification_status'] = loan_dropped['verification_status'].replace(verification_status_mapping)"
   ]
  },
  {
   "cell_type": "code",
   "execution_count": 22,
   "id": "4ad66189",
   "metadata": {},
   "outputs": [],
   "source": [
    "# loan_dropped.info()"
   ]
  },
  {
   "cell_type": "code",
   "execution_count": 23,
   "id": "e26d99c1",
   "metadata": {},
   "outputs": [
    {
     "data": {
      "text/plain": [
       "RENT        17868\n",
       "MORTGAGE    16723\n",
       "OWN          2765\n",
       "OTHER         125\n",
       "NONE            4\n",
       "Name: home_ownership, dtype: int64"
      ]
     },
     "execution_count": 23,
     "metadata": {},
     "output_type": "execute_result"
    }
   ],
   "source": [
    "loan_dropped['home_ownership'].value_counts()"
   ]
  },
  {
   "cell_type": "code",
   "execution_count": 24,
   "id": "eb1ea1cd",
   "metadata": {},
   "outputs": [],
   "source": [
    "home_ownership_mapping = {\n",
    "    'NONE': \"OTHER\",\n",
    "}\n",
    "\n",
    "loan_dropped['home_ownership'] = loan_dropped['home_ownership'].replace(home_ownership_mapping)"
   ]
  },
  {
   "cell_type": "code",
   "execution_count": 25,
   "id": "7fb7867f",
   "metadata": {},
   "outputs": [],
   "source": [
    "# loan_dropped.info()"
   ]
  },
  {
   "cell_type": "code",
   "execution_count": 26,
   "id": "8c951d5a",
   "metadata": {},
   "outputs": [
    {
     "data": {
      "text/plain": [
       "Fully Paid                                             29266\n",
       "Charged Off                                             4908\n",
       "Does not meet the credit policy. Status:Fully Paid      1764\n",
       "Current                                                  832\n",
       "Does not meet the credit policy. Status:Charged Off      674\n",
       "Late (31-120 days)                                        19\n",
       "In Grace Period                                           14\n",
       "Late (16-30 days)                                          7\n",
       "Default                                                    1\n",
       "Name: loan_status, dtype: int64"
      ]
     },
     "execution_count": 26,
     "metadata": {},
     "output_type": "execute_result"
    }
   ],
   "source": [
    "loan_dropped['loan_status'].value_counts()"
   ]
  },
  {
   "cell_type": "code",
   "execution_count": 27,
   "id": "68e1ed25",
   "metadata": {},
   "outputs": [],
   "source": [
    "loan_status_mapping = {\n",
    "   \"Does not meet the credit policy. Status:Fully Paid\" : \"Fully Paid\",\n",
    "    \"Does not meet the credit policy. Status:Charged Off\": \"Charged Off\" ,\n",
    "    \"In Grace Period\":\"Late\",\n",
    "    \"Default\":\"Late\",\n",
    "    \n",
    "    \"Late (31-120 days)\":\"Late\",\n",
    "   \"Late (16-30 days)\" :\"Late\"\n",
    "}\n",
    "\n",
    "loan_dropped['loan_status'] = loan_dropped['loan_status'].replace(loan_status_mapping)"
   ]
  },
  {
   "cell_type": "code",
   "execution_count": 28,
   "id": "4c9235c1",
   "metadata": {},
   "outputs": [
    {
     "data": {
      "text/plain": [
       "Fully Paid     31030\n",
       "Charged Off     5582\n",
       "Current          832\n",
       "Late              41\n",
       "Name: loan_status, dtype: int64"
      ]
     },
     "execution_count": 28,
     "metadata": {},
     "output_type": "execute_result"
    }
   ],
   "source": [
    "loan_dropped['loan_status'].value_counts()"
   ]
  },
  {
   "cell_type": "code",
   "execution_count": 29,
   "id": "8f1c5eff",
   "metadata": {},
   "outputs": [
    {
     "data": {
      "text/plain": [
       "debt_consolidation    17545\n",
       "credit_card            4849\n",
       "other                  3804\n",
       "home_improvement       2811\n",
       "major_purchase         2014\n",
       "small_business         1769\n",
       "car                    1433\n",
       "wedding                 900\n",
       "medical                 652\n",
       "moving                  542\n",
       "educational             377\n",
       "house                   373\n",
       "vacation                332\n",
       "renewable_energy         84\n",
       "Name: purpose, dtype: int64"
      ]
     },
     "execution_count": 29,
     "metadata": {},
     "output_type": "execute_result"
    }
   ],
   "source": [
    "loan_dropped['purpose'].value_counts()"
   ]
  },
  {
   "cell_type": "code",
   "execution_count": 30,
   "id": "b45fc239",
   "metadata": {},
   "outputs": [],
   "source": [
    "# loan_dropped.info()"
   ]
  },
  {
   "cell_type": "code",
   "execution_count": 31,
   "id": "33c61708",
   "metadata": {},
   "outputs": [
    {
     "data": {
      "text/plain": [
       "Index(['loan_amnt', 'funded_amnt', 'term', 'int_rate', 'installment',\n",
       "       'emp_length', 'home_ownership', 'annual_inc', 'verification_status',\n",
       "       'loan_status', 'purpose', 'repay_fail'],\n",
       "      dtype='object')"
      ]
     },
     "execution_count": 31,
     "metadata": {},
     "output_type": "execute_result"
    }
   ],
   "source": [
    "loan_dropped.columns"
   ]
  },
  {
   "cell_type": "code",
   "execution_count": null,
   "id": "6c13b309",
   "metadata": {},
   "outputs": [],
   "source": []
  },
  {
   "cell_type": "code",
   "execution_count": 33,
   "id": "1ad7fdeb",
   "metadata": {},
   "outputs": [
    {
     "data": {
      "text/plain": [
       "Index(['loan_amnt', 'funded_amnt', 'term', 'int_rate', 'installment',\n",
       "       'emp_length', 'home_ownership', 'annual_inc', 'verification_status',\n",
       "       'loan_status', 'purpose', 'repay_fail'],\n",
       "      dtype='object')"
      ]
     },
     "execution_count": 33,
     "metadata": {},
     "output_type": "execute_result"
    }
   ],
   "source": [
    "loan_dropped.columns"
   ]
  },
  {
   "cell_type": "code",
   "execution_count": null,
   "id": "d112c5c3",
   "metadata": {},
   "outputs": [],
   "source": []
  },
  {
   "cell_type": "code",
   "execution_count": 34,
   "id": "f09d787c",
   "metadata": {
    "scrolled": true
   },
   "outputs": [],
   "source": [
    "# loan_dropped"
   ]
  },
  {
   "cell_type": "markdown",
   "id": "d630c84c",
   "metadata": {},
   "source": [
    "# Split Data"
   ]
  },
  {
   "cell_type": "code",
   "execution_count": 35,
   "id": "c883dcd4",
   "metadata": {},
   "outputs": [],
   "source": [
    "\n",
    "X = loan_dropped[['loan_amnt', 'funded_amnt', 'term', 'int_rate', 'installment',\n",
    "       'emp_length', 'home_ownership', 'annual_inc', 'verification_status',\n",
    "       'loan_status', 'purpose']]\n",
    "y = loan_dropped['repay_fail']\n",
    "X_train, X_test, y_train, y_test = train_test_split(X, y, test_size=0.2, random_state=0)\n"
   ]
  },
  {
   "cell_type": "markdown",
   "id": "3f1508bf",
   "metadata": {},
   "source": [
    "# Create Dummy Variables"
   ]
  },
  {
   "cell_type": "code",
   "execution_count": 36,
   "id": "d6f602c8",
   "metadata": {},
   "outputs": [],
   "source": [
    "\n",
    "X_train_encoded = pd.get_dummies(X_train, drop_first=True)\n",
    "X_test_encoded = pd.get_dummies(X_test, drop_first=True)"
   ]
  },
  {
   "cell_type": "markdown",
   "id": "0536f0d9",
   "metadata": {},
   "source": [
    "# Create a logistic regression model"
   ]
  },
  {
   "cell_type": "code",
   "execution_count": 37,
   "id": "6330ae89",
   "metadata": {},
   "outputs": [
    {
     "name": "stderr",
     "output_type": "stream",
     "text": [
      "C:\\Users\\Comfinite\\anaconda3\\Lib\\site-packages\\sklearn\\linear_model\\_logistic.py:458: ConvergenceWarning: lbfgs failed to converge (status=1):\n",
      "STOP: TOTAL NO. of ITERATIONS REACHED LIMIT.\n",
      "\n",
      "Increase the number of iterations (max_iter) or scale the data as shown in:\n",
      "    https://scikit-learn.org/stable/modules/preprocessing.html\n",
      "Please also refer to the documentation for alternative solver options:\n",
      "    https://scikit-learn.org/stable/modules/linear_model.html#logistic-regression\n",
      "  n_iter_i = _check_optimize_result(\n"
     ]
    },
    {
     "data": {
      "text/html": [
       "<style>#sk-container-id-1 {color: black;background-color: white;}#sk-container-id-1 pre{padding: 0;}#sk-container-id-1 div.sk-toggleable {background-color: white;}#sk-container-id-1 label.sk-toggleable__label {cursor: pointer;display: block;width: 100%;margin-bottom: 0;padding: 0.3em;box-sizing: border-box;text-align: center;}#sk-container-id-1 label.sk-toggleable__label-arrow:before {content: \"▸\";float: left;margin-right: 0.25em;color: #696969;}#sk-container-id-1 label.sk-toggleable__label-arrow:hover:before {color: black;}#sk-container-id-1 div.sk-estimator:hover label.sk-toggleable__label-arrow:before {color: black;}#sk-container-id-1 div.sk-toggleable__content {max-height: 0;max-width: 0;overflow: hidden;text-align: left;background-color: #f0f8ff;}#sk-container-id-1 div.sk-toggleable__content pre {margin: 0.2em;color: black;border-radius: 0.25em;background-color: #f0f8ff;}#sk-container-id-1 input.sk-toggleable__control:checked~div.sk-toggleable__content {max-height: 200px;max-width: 100%;overflow: auto;}#sk-container-id-1 input.sk-toggleable__control:checked~label.sk-toggleable__label-arrow:before {content: \"▾\";}#sk-container-id-1 div.sk-estimator input.sk-toggleable__control:checked~label.sk-toggleable__label {background-color: #d4ebff;}#sk-container-id-1 div.sk-label input.sk-toggleable__control:checked~label.sk-toggleable__label {background-color: #d4ebff;}#sk-container-id-1 input.sk-hidden--visually {border: 0;clip: rect(1px 1px 1px 1px);clip: rect(1px, 1px, 1px, 1px);height: 1px;margin: -1px;overflow: hidden;padding: 0;position: absolute;width: 1px;}#sk-container-id-1 div.sk-estimator {font-family: monospace;background-color: #f0f8ff;border: 1px dotted black;border-radius: 0.25em;box-sizing: border-box;margin-bottom: 0.5em;}#sk-container-id-1 div.sk-estimator:hover {background-color: #d4ebff;}#sk-container-id-1 div.sk-parallel-item::after {content: \"\";width: 100%;border-bottom: 1px solid gray;flex-grow: 1;}#sk-container-id-1 div.sk-label:hover label.sk-toggleable__label {background-color: #d4ebff;}#sk-container-id-1 div.sk-serial::before {content: \"\";position: absolute;border-left: 1px solid gray;box-sizing: border-box;top: 0;bottom: 0;left: 50%;z-index: 0;}#sk-container-id-1 div.sk-serial {display: flex;flex-direction: column;align-items: center;background-color: white;padding-right: 0.2em;padding-left: 0.2em;position: relative;}#sk-container-id-1 div.sk-item {position: relative;z-index: 1;}#sk-container-id-1 div.sk-parallel {display: flex;align-items: stretch;justify-content: center;background-color: white;position: relative;}#sk-container-id-1 div.sk-item::before, #sk-container-id-1 div.sk-parallel-item::before {content: \"\";position: absolute;border-left: 1px solid gray;box-sizing: border-box;top: 0;bottom: 0;left: 50%;z-index: -1;}#sk-container-id-1 div.sk-parallel-item {display: flex;flex-direction: column;z-index: 1;position: relative;background-color: white;}#sk-container-id-1 div.sk-parallel-item:first-child::after {align-self: flex-end;width: 50%;}#sk-container-id-1 div.sk-parallel-item:last-child::after {align-self: flex-start;width: 50%;}#sk-container-id-1 div.sk-parallel-item:only-child::after {width: 0;}#sk-container-id-1 div.sk-dashed-wrapped {border: 1px dashed gray;margin: 0 0.4em 0.5em 0.4em;box-sizing: border-box;padding-bottom: 0.4em;background-color: white;}#sk-container-id-1 div.sk-label label {font-family: monospace;font-weight: bold;display: inline-block;line-height: 1.2em;}#sk-container-id-1 div.sk-label-container {text-align: center;}#sk-container-id-1 div.sk-container {/* jupyter's `normalize.less` sets `[hidden] { display: none; }` but bootstrap.min.css set `[hidden] { display: none !important; }` so we also need the `!important` here to be able to override the default hidden behavior on the sphinx rendered scikit-learn.org. See: https://github.com/scikit-learn/scikit-learn/issues/21755 */display: inline-block !important;position: relative;}#sk-container-id-1 div.sk-text-repr-fallback {display: none;}</style><div id=\"sk-container-id-1\" class=\"sk-top-container\"><div class=\"sk-text-repr-fallback\"><pre>LogisticRegression()</pre><b>In a Jupyter environment, please rerun this cell to show the HTML representation or trust the notebook. <br />On GitHub, the HTML representation is unable to render, please try loading this page with nbviewer.org.</b></div><div class=\"sk-container\" hidden><div class=\"sk-item\"><div class=\"sk-estimator sk-toggleable\"><input class=\"sk-toggleable__control sk-hidden--visually\" id=\"sk-estimator-id-1\" type=\"checkbox\" checked><label for=\"sk-estimator-id-1\" class=\"sk-toggleable__label sk-toggleable__label-arrow\">LogisticRegression</label><div class=\"sk-toggleable__content\"><pre>LogisticRegression()</pre></div></div></div></div></div>"
      ],
      "text/plain": [
       "LogisticRegression()"
      ]
     },
     "execution_count": 37,
     "metadata": {},
     "output_type": "execute_result"
    }
   ],
   "source": [
    "\n",
    "logistic_regression_model = LogisticRegression()\n",
    "\n",
    "# Fit the model on the training data\n",
    "logistic_regression_model.fit(X_train_encoded, y_train)"
   ]
  },
  {
   "cell_type": "code",
   "execution_count": 38,
   "id": "ca6792e7",
   "metadata": {},
   "outputs": [],
   "source": [
    "# Predict and Evaluate\n",
    "y_pred = logistic_regression_model.predict(X_test_encoded)"
   ]
  },
  {
   "cell_type": "code",
   "execution_count": null,
   "id": "21422344",
   "metadata": {},
   "outputs": [],
   "source": []
  },
  {
   "cell_type": "markdown",
   "id": "819bb6ce",
   "metadata": {},
   "source": [
    "# Classification Report"
   ]
  },
  {
   "cell_type": "code",
   "execution_count": 39,
   "id": "498eb677",
   "metadata": {},
   "outputs": [
    {
     "name": "stdout",
     "output_type": "stream",
     "text": [
      "              precision    recall  f1-score   support\n",
      "\n",
      "           0       0.85      0.99      0.92      6366\n",
      "           1       0.49      0.03      0.06      1131\n",
      "\n",
      "    accuracy                           0.85      7497\n",
      "   macro avg       0.67      0.51      0.49      7497\n",
      "weighted avg       0.80      0.85      0.79      7497\n",
      "\n"
     ]
    }
   ],
   "source": [
    "from sklearn.metrics import classification_report\n",
    "print(classification_report(y_test, y_pred))"
   ]
  },
  {
   "cell_type": "code",
   "execution_count": 40,
   "id": "7bdf7ad5",
   "metadata": {},
   "outputs": [
    {
     "data": {
      "text/plain": [
       "0    31876\n",
       "1     5609\n",
       "Name: repay_fail, dtype: int64"
      ]
     },
     "execution_count": 40,
     "metadata": {},
     "output_type": "execute_result"
    }
   ],
   "source": [
    "loan_dropped['repay_fail'].value_counts()\n"
   ]
  },
  {
   "cell_type": "markdown",
   "id": "8ce1952d",
   "metadata": {},
   "source": [
    "# Balance Data"
   ]
  },
  {
   "cell_type": "code",
   "execution_count": 44,
   "id": "f67b47bf",
   "metadata": {},
   "outputs": [],
   "source": [
    "# Filter samples with 'repay_fail' column value 0\n",
    "repay_not_fail_samples = loan_dropped[loan_dropped['repay_fail'] == 0]\n",
    "\n",
    "# Sample exactly 6000 rows from 'repay_fail' column value 0 samples\n",
    "repay_not_fail_sampled = repay_not_fail_samples.sample(6000, random_state=0)\n",
    "\n",
    "# Filter samples with 'repay_fail' column value 1\n",
    "repay_fail_samples = loan_dropped[loan_dropped['repay_fail'] == 1]\n",
    "\n",
    "# Combine 'repay_fail' column value 0 sampled and 'repay_fail' column value 1 samples\n",
    "balanced_dataset = pd.concat([repay_not_fail_sampled, repay_fail_samples])\n",
    "\n",
    "X_balanced = balanced_dataset[['loan_amnt', 'funded_amnt', 'term', 'int_rate', 'installment',\n",
    "                               'emp_length', 'home_ownership', 'annual_inc', 'verification_status',\n",
    "                               'purpose']]\n",
    "y_balanced = balanced_dataset['repay_fail']\n",
    "\n",
    "# Split the balanced dataset into training and testing sets\n",
    "X_train_balanced, X_test_balanced, y_train_balanced, y_test_balanced = train_test_split(X_balanced, y_balanced, test_size=0.2, random_state=0)"
   ]
  },
  {
   "cell_type": "code",
   "execution_count": 47,
   "id": "b9ed1860",
   "metadata": {},
   "outputs": [
    {
     "data": {
      "text/plain": [
       "0    6000\n",
       "1    5609\n",
       "Name: repay_fail, dtype: int64"
      ]
     },
     "execution_count": 47,
     "metadata": {},
     "output_type": "execute_result"
    }
   ],
   "source": [
    "balanced_dataset['repay_fail'].value_counts()"
   ]
  },
  {
   "cell_type": "code",
   "execution_count": 52,
   "id": "73535ae8",
   "metadata": {},
   "outputs": [
    {
     "data": {
      "text/plain": [
       "Index(['loan_amnt', 'funded_amnt', 'term', 'int_rate', 'installment',\n",
       "       'emp_length', 'home_ownership', 'annual_inc', 'verification_status',\n",
       "       'loan_status', 'purpose', 'repay_fail'],\n",
       "      dtype='object')"
      ]
     },
     "execution_count": 52,
     "metadata": {},
     "output_type": "execute_result"
    }
   ],
   "source": [
    "balanced_dataset.columns"
   ]
  },
  {
   "cell_type": "code",
   "execution_count": 54,
   "id": "a123d90a",
   "metadata": {},
   "outputs": [],
   "source": [
    "X = balanced_dataset[['loan_amnt', 'funded_amnt', 'term', 'int_rate', 'installment',\n",
    "       'emp_length', 'home_ownership', 'annual_inc', 'verification_status',\n",
    "       'loan_status', 'purpose']]\n",
    "y = balanced_dataset['repay_fail']\n",
    "X_train, X_test, y_train, y_test = train_test_split(X, y, test_size=0.2, random_state=0)\n"
   ]
  },
  {
   "cell_type": "code",
   "execution_count": 55,
   "id": "733c5e90",
   "metadata": {},
   "outputs": [],
   "source": [
    "\n",
    "X_train_encoded = pd.get_dummies(X_train, drop_first=True)\n",
    "X_test_encoded = pd.get_dummies(X_test, drop_first=True)"
   ]
  },
  {
   "cell_type": "code",
   "execution_count": 56,
   "id": "da3629fd",
   "metadata": {},
   "outputs": [
    {
     "data": {
      "text/html": [
       "<style>#sk-container-id-2 {color: black;background-color: white;}#sk-container-id-2 pre{padding: 0;}#sk-container-id-2 div.sk-toggleable {background-color: white;}#sk-container-id-2 label.sk-toggleable__label {cursor: pointer;display: block;width: 100%;margin-bottom: 0;padding: 0.3em;box-sizing: border-box;text-align: center;}#sk-container-id-2 label.sk-toggleable__label-arrow:before {content: \"▸\";float: left;margin-right: 0.25em;color: #696969;}#sk-container-id-2 label.sk-toggleable__label-arrow:hover:before {color: black;}#sk-container-id-2 div.sk-estimator:hover label.sk-toggleable__label-arrow:before {color: black;}#sk-container-id-2 div.sk-toggleable__content {max-height: 0;max-width: 0;overflow: hidden;text-align: left;background-color: #f0f8ff;}#sk-container-id-2 div.sk-toggleable__content pre {margin: 0.2em;color: black;border-radius: 0.25em;background-color: #f0f8ff;}#sk-container-id-2 input.sk-toggleable__control:checked~div.sk-toggleable__content {max-height: 200px;max-width: 100%;overflow: auto;}#sk-container-id-2 input.sk-toggleable__control:checked~label.sk-toggleable__label-arrow:before {content: \"▾\";}#sk-container-id-2 div.sk-estimator input.sk-toggleable__control:checked~label.sk-toggleable__label {background-color: #d4ebff;}#sk-container-id-2 div.sk-label input.sk-toggleable__control:checked~label.sk-toggleable__label {background-color: #d4ebff;}#sk-container-id-2 input.sk-hidden--visually {border: 0;clip: rect(1px 1px 1px 1px);clip: rect(1px, 1px, 1px, 1px);height: 1px;margin: -1px;overflow: hidden;padding: 0;position: absolute;width: 1px;}#sk-container-id-2 div.sk-estimator {font-family: monospace;background-color: #f0f8ff;border: 1px dotted black;border-radius: 0.25em;box-sizing: border-box;margin-bottom: 0.5em;}#sk-container-id-2 div.sk-estimator:hover {background-color: #d4ebff;}#sk-container-id-2 div.sk-parallel-item::after {content: \"\";width: 100%;border-bottom: 1px solid gray;flex-grow: 1;}#sk-container-id-2 div.sk-label:hover label.sk-toggleable__label {background-color: #d4ebff;}#sk-container-id-2 div.sk-serial::before {content: \"\";position: absolute;border-left: 1px solid gray;box-sizing: border-box;top: 0;bottom: 0;left: 50%;z-index: 0;}#sk-container-id-2 div.sk-serial {display: flex;flex-direction: column;align-items: center;background-color: white;padding-right: 0.2em;padding-left: 0.2em;position: relative;}#sk-container-id-2 div.sk-item {position: relative;z-index: 1;}#sk-container-id-2 div.sk-parallel {display: flex;align-items: stretch;justify-content: center;background-color: white;position: relative;}#sk-container-id-2 div.sk-item::before, #sk-container-id-2 div.sk-parallel-item::before {content: \"\";position: absolute;border-left: 1px solid gray;box-sizing: border-box;top: 0;bottom: 0;left: 50%;z-index: -1;}#sk-container-id-2 div.sk-parallel-item {display: flex;flex-direction: column;z-index: 1;position: relative;background-color: white;}#sk-container-id-2 div.sk-parallel-item:first-child::after {align-self: flex-end;width: 50%;}#sk-container-id-2 div.sk-parallel-item:last-child::after {align-self: flex-start;width: 50%;}#sk-container-id-2 div.sk-parallel-item:only-child::after {width: 0;}#sk-container-id-2 div.sk-dashed-wrapped {border: 1px dashed gray;margin: 0 0.4em 0.5em 0.4em;box-sizing: border-box;padding-bottom: 0.4em;background-color: white;}#sk-container-id-2 div.sk-label label {font-family: monospace;font-weight: bold;display: inline-block;line-height: 1.2em;}#sk-container-id-2 div.sk-label-container {text-align: center;}#sk-container-id-2 div.sk-container {/* jupyter's `normalize.less` sets `[hidden] { display: none; }` but bootstrap.min.css set `[hidden] { display: none !important; }` so we also need the `!important` here to be able to override the default hidden behavior on the sphinx rendered scikit-learn.org. See: https://github.com/scikit-learn/scikit-learn/issues/21755 */display: inline-block !important;position: relative;}#sk-container-id-2 div.sk-text-repr-fallback {display: none;}</style><div id=\"sk-container-id-2\" class=\"sk-top-container\"><div class=\"sk-text-repr-fallback\"><pre>LogisticRegression()</pre><b>In a Jupyter environment, please rerun this cell to show the HTML representation or trust the notebook. <br />On GitHub, the HTML representation is unable to render, please try loading this page with nbviewer.org.</b></div><div class=\"sk-container\" hidden><div class=\"sk-item\"><div class=\"sk-estimator sk-toggleable\"><input class=\"sk-toggleable__control sk-hidden--visually\" id=\"sk-estimator-id-2\" type=\"checkbox\" checked><label for=\"sk-estimator-id-2\" class=\"sk-toggleable__label sk-toggleable__label-arrow\">LogisticRegression</label><div class=\"sk-toggleable__content\"><pre>LogisticRegression()</pre></div></div></div></div></div>"
      ],
      "text/plain": [
       "LogisticRegression()"
      ]
     },
     "execution_count": 56,
     "metadata": {},
     "output_type": "execute_result"
    }
   ],
   "source": [
    "logistic_regression_model = LogisticRegression()\n",
    "\n",
    "# Fit the model on the training data\n",
    "logistic_regression_model.fit(X_train_encoded, y_train)"
   ]
  },
  {
   "cell_type": "code",
   "execution_count": 57,
   "id": "d9326efb",
   "metadata": {},
   "outputs": [],
   "source": [
    "# Predict and Evaluate\n",
    "y_pred = logistic_regression_model.predict(X_test_encoded)"
   ]
  },
  {
   "cell_type": "markdown",
   "id": "aa122d35",
   "metadata": {},
   "source": [
    "# Classification Report on Balanced Data"
   ]
  },
  {
   "cell_type": "code",
   "execution_count": 58,
   "id": "b8fda8bb",
   "metadata": {},
   "outputs": [
    {
     "name": "stdout",
     "output_type": "stream",
     "text": [
      "              precision    recall  f1-score   support\n",
      "\n",
      "           0       0.65      0.67      0.66      1150\n",
      "           1       0.66      0.65      0.66      1172\n",
      "\n",
      "    accuracy                           0.66      2322\n",
      "   macro avg       0.66      0.66      0.66      2322\n",
      "weighted avg       0.66      0.66      0.66      2322\n",
      "\n"
     ]
    }
   ],
   "source": [
    "from sklearn.metrics import classification_report\n",
    "print(classification_report(y_test, y_pred))"
   ]
  },
  {
   "cell_type": "code",
   "execution_count": null,
   "id": "7b1d644f",
   "metadata": {},
   "outputs": [],
   "source": []
  }
 ],
 "metadata": {
  "kernelspec": {
   "display_name": "Python 3 (ipykernel)",
   "language": "python",
   "name": "python3"
  },
  "language_info": {
   "codemirror_mode": {
    "name": "ipython",
    "version": 3
   },
   "file_extension": ".py",
   "mimetype": "text/x-python",
   "name": "python",
   "nbconvert_exporter": "python",
   "pygments_lexer": "ipython3",
   "version": "3.11.3"
  }
 },
 "nbformat": 4,
 "nbformat_minor": 5
}
