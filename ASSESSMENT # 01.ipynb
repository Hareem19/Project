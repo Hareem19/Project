{
 "cells": [
  {
   "cell_type": "markdown",
   "id": "a82b3e5b",
   "metadata": {},
   "source": [
    "#                                     ASSESSMENT PROJECT TO ANAYLYSE LOAN DATA"
   ]
  },
  {
   "cell_type": "markdown",
   "id": "1767d9a4",
   "metadata": {},
   "source": [
    "\n",
    "# Import Libraries"
   ]
  },
  {
   "cell_type": "code",
   "execution_count": 1,
   "id": "dd54af30",
   "metadata": {},
   "outputs": [],
   "source": [
    "import pandas as pd\n",
    "import numpy as np\n",
    "import matplotlib.pyplot as plt\n",
    "import seaborn as sns\n"
   ]
  },
  {
   "cell_type": "markdown",
   "id": "673662a2",
   "metadata": {},
   "source": [
    "# Load Data"
   ]
  },
  {
   "cell_type": "code",
   "execution_count": 3,
   "id": "2c4d4105",
   "metadata": {},
   "outputs": [],
   "source": [
    "loan=pd.read_excel('loan-data.xlsX')"
   ]
  },
  {
   "cell_type": "markdown",
   "id": "9bd9c1cb",
   "metadata": {},
   "source": [
    "#      Understanding Data"
   ]
  },
  {
   "cell_type": "code",
   "execution_count": 36,
   "id": "9a1480a8",
   "metadata": {},
   "outputs": [
    {
     "data": {
      "text/plain": [
       "Index(['Unnamed: 0', 'id', 'member_id', 'loan_amnt', 'funded_amnt',\n",
       "       'funded_amnt_inv', 'term', 'int_rate', 'installment', 'emp_length',\n",
       "       'home_ownership', 'annual_inc', 'verification_status', 'issue_d',\n",
       "       'loan_status', 'purpose', 'zip_code', 'addr_state', 'dti',\n",
       "       'delinq_2yrs', 'earliest_cr_line', 'inq_last_6mths',\n",
       "       'mths_since_last_delinq', 'open_acc', 'pub_rec', 'revol_bal',\n",
       "       'revol_util', 'total_acc', 'total_pymnt', 'total_pymnt_inv',\n",
       "       'total_rec_prncp', 'total_rec_int', 'last_pymnt_d', 'last_pymnt_amnt',\n",
       "       'next_pymnt_d', 'last_credit_pull_d', 'repay_fail'],\n",
       "      dtype='object')"
      ]
     },
     "execution_count": 36,
     "metadata": {},
     "output_type": "execute_result"
    }
   ],
   "source": [
    "loan.columns"
   ]
  },
  {
   "cell_type": "code",
   "execution_count": 37,
   "id": "8ad97716",
   "metadata": {},
   "outputs": [
    {
     "data": {
      "text/html": [
       "<div>\n",
       "<style scoped>\n",
       "    .dataframe tbody tr th:only-of-type {\n",
       "        vertical-align: middle;\n",
       "    }\n",
       "\n",
       "    .dataframe tbody tr th {\n",
       "        vertical-align: top;\n",
       "    }\n",
       "\n",
       "    .dataframe thead th {\n",
       "        text-align: right;\n",
       "    }\n",
       "</style>\n",
       "<table border=\"1\" class=\"dataframe\">\n",
       "  <thead>\n",
       "    <tr style=\"text-align: right;\">\n",
       "      <th></th>\n",
       "      <th>Unnamed: 0</th>\n",
       "      <th>id</th>\n",
       "      <th>member_id</th>\n",
       "      <th>loan_amnt</th>\n",
       "      <th>funded_amnt</th>\n",
       "      <th>funded_amnt_inv</th>\n",
       "      <th>term</th>\n",
       "      <th>int_rate</th>\n",
       "      <th>installment</th>\n",
       "      <th>emp_length</th>\n",
       "      <th>...</th>\n",
       "      <th>total_acc</th>\n",
       "      <th>total_pymnt</th>\n",
       "      <th>total_pymnt_inv</th>\n",
       "      <th>total_rec_prncp</th>\n",
       "      <th>total_rec_int</th>\n",
       "      <th>last_pymnt_d</th>\n",
       "      <th>last_pymnt_amnt</th>\n",
       "      <th>next_pymnt_d</th>\n",
       "      <th>last_credit_pull_d</th>\n",
       "      <th>repay_fail</th>\n",
       "    </tr>\n",
       "  </thead>\n",
       "  <tbody>\n",
       "    <tr>\n",
       "      <th>0</th>\n",
       "      <td>2</td>\n",
       "      <td>2</td>\n",
       "      <td>2</td>\n",
       "      <td>0.0</td>\n",
       "      <td>0.0</td>\n",
       "      <td>0.0</td>\n",
       "      <td>36 months</td>\n",
       "      <td>0.00</td>\n",
       "      <td>0.00</td>\n",
       "      <td>&lt; 1 year</td>\n",
       "      <td>...</td>\n",
       "      <td>1.0</td>\n",
       "      <td>0.000000</td>\n",
       "      <td>0.00</td>\n",
       "      <td>0.00</td>\n",
       "      <td>0.00</td>\n",
       "      <td>2023-01-07</td>\n",
       "      <td>0.00</td>\n",
       "      <td>2023-01-07</td>\n",
       "      <td>2023-01-07</td>\n",
       "      <td>1</td>\n",
       "    </tr>\n",
       "    <tr>\n",
       "      <th>1</th>\n",
       "      <td>3</td>\n",
       "      <td>545583</td>\n",
       "      <td>703644</td>\n",
       "      <td>2500.0</td>\n",
       "      <td>2500.0</td>\n",
       "      <td>2500.0</td>\n",
       "      <td>36 months</td>\n",
       "      <td>13.98</td>\n",
       "      <td>85.42</td>\n",
       "      <td>4 years</td>\n",
       "      <td>...</td>\n",
       "      <td>10.0</td>\n",
       "      <td>3075.291779</td>\n",
       "      <td>3075.29</td>\n",
       "      <td>2500.00</td>\n",
       "      <td>575.29</td>\n",
       "      <td>2023-07-13</td>\n",
       "      <td>90.85</td>\n",
       "      <td>2023-08-13</td>\n",
       "      <td>2023-06-16</td>\n",
       "      <td>0</td>\n",
       "    </tr>\n",
       "    <tr>\n",
       "      <th>2</th>\n",
       "      <td>4</td>\n",
       "      <td>532101</td>\n",
       "      <td>687836</td>\n",
       "      <td>5000.0</td>\n",
       "      <td>5000.0</td>\n",
       "      <td>5000.0</td>\n",
       "      <td>36 months</td>\n",
       "      <td>15.95</td>\n",
       "      <td>175.67</td>\n",
       "      <td>4 years</td>\n",
       "      <td>...</td>\n",
       "      <td>15.0</td>\n",
       "      <td>2948.760000</td>\n",
       "      <td>2948.76</td>\n",
       "      <td>1909.02</td>\n",
       "      <td>873.81</td>\n",
       "      <td>2023-11-11</td>\n",
       "      <td>175.67</td>\n",
       "      <td>NaT</td>\n",
       "      <td>2023-03-12</td>\n",
       "      <td>1</td>\n",
       "    </tr>\n",
       "    <tr>\n",
       "      <th>3</th>\n",
       "      <td>5</td>\n",
       "      <td>877788</td>\n",
       "      <td>1092507</td>\n",
       "      <td>7000.0</td>\n",
       "      <td>7000.0</td>\n",
       "      <td>7000.0</td>\n",
       "      <td>36 months</td>\n",
       "      <td>9.91</td>\n",
       "      <td>225.58</td>\n",
       "      <td>10+ years</td>\n",
       "      <td>...</td>\n",
       "      <td>20.0</td>\n",
       "      <td>8082.391880</td>\n",
       "      <td>8082.39</td>\n",
       "      <td>7000.00</td>\n",
       "      <td>1082.39</td>\n",
       "      <td>2023-03-14</td>\n",
       "      <td>1550.27</td>\n",
       "      <td>NaT</td>\n",
       "      <td>2023-03-14</td>\n",
       "      <td>0</td>\n",
       "    </tr>\n",
       "    <tr>\n",
       "      <th>4</th>\n",
       "      <td>6</td>\n",
       "      <td>875406</td>\n",
       "      <td>1089981</td>\n",
       "      <td>2000.0</td>\n",
       "      <td>2000.0</td>\n",
       "      <td>2000.0</td>\n",
       "      <td>36 months</td>\n",
       "      <td>5.42</td>\n",
       "      <td>60.32</td>\n",
       "      <td>10+ years</td>\n",
       "      <td>...</td>\n",
       "      <td>15.0</td>\n",
       "      <td>2161.663244</td>\n",
       "      <td>2161.66</td>\n",
       "      <td>2000.00</td>\n",
       "      <td>161.66</td>\n",
       "      <td>2023-02-14</td>\n",
       "      <td>53.12</td>\n",
       "      <td>NaT</td>\n",
       "      <td>2023-06-16</td>\n",
       "      <td>0</td>\n",
       "    </tr>\n",
       "  </tbody>\n",
       "</table>\n",
       "<p>5 rows × 37 columns</p>\n",
       "</div>"
      ],
      "text/plain": [
       "   Unnamed: 0      id  member_id  loan_amnt  funded_amnt  funded_amnt_inv  \\\n",
       "0           2       2          2        0.0          0.0              0.0   \n",
       "1           3  545583     703644     2500.0       2500.0           2500.0   \n",
       "2           4  532101     687836     5000.0       5000.0           5000.0   \n",
       "3           5  877788    1092507     7000.0       7000.0           7000.0   \n",
       "4           6  875406    1089981     2000.0       2000.0           2000.0   \n",
       "\n",
       "        term  int_rate  installment emp_length  ... total_acc  total_pymnt  \\\n",
       "0  36 months      0.00         0.00   < 1 year  ...       1.0     0.000000   \n",
       "1  36 months     13.98        85.42    4 years  ...      10.0  3075.291779   \n",
       "2  36 months     15.95       175.67    4 years  ...      15.0  2948.760000   \n",
       "3  36 months      9.91       225.58  10+ years  ...      20.0  8082.391880   \n",
       "4  36 months      5.42        60.32  10+ years  ...      15.0  2161.663244   \n",
       "\n",
       "  total_pymnt_inv total_rec_prncp total_rec_int last_pymnt_d last_pymnt_amnt  \\\n",
       "0            0.00            0.00          0.00   2023-01-07            0.00   \n",
       "1         3075.29         2500.00        575.29   2023-07-13           90.85   \n",
       "2         2948.76         1909.02        873.81   2023-11-11          175.67   \n",
       "3         8082.39         7000.00       1082.39   2023-03-14         1550.27   \n",
       "4         2161.66         2000.00        161.66   2023-02-14           53.12   \n",
       "\n",
       "  next_pymnt_d  last_credit_pull_d  repay_fail  \n",
       "0   2023-01-07          2023-01-07           1  \n",
       "1   2023-08-13          2023-06-16           0  \n",
       "2          NaT          2023-03-12           1  \n",
       "3          NaT          2023-03-14           0  \n",
       "4          NaT          2023-06-16           0  \n",
       "\n",
       "[5 rows x 37 columns]"
      ]
     },
     "execution_count": 37,
     "metadata": {},
     "output_type": "execute_result"
    }
   ],
   "source": [
    "loan.head()\n"
   ]
  },
  {
   "cell_type": "markdown",
   "id": "5016fbc1",
   "metadata": {},
   "source": [
    "# Checking missing values"
   ]
  },
  {
   "cell_type": "code",
   "execution_count": 38,
   "id": "66e9ae46",
   "metadata": {},
   "outputs": [
    {
     "data": {
      "text/plain": [
       "Unnamed: 0                    0\n",
       "id                            0\n",
       "member_id                     0\n",
       "loan_amnt                     1\n",
       "funded_amnt                   1\n",
       "funded_amnt_inv               1\n",
       "term                          0\n",
       "int_rate                      0\n",
       "installment                   1\n",
       "emp_length                  993\n",
       "home_ownership                0\n",
       "annual_inc                    2\n",
       "verification_status           0\n",
       "issue_d                       0\n",
       "loan_status                   0\n",
       "purpose                       0\n",
       "zip_code                      0\n",
       "addr_state                    0\n",
       "dti                           0\n",
       "delinq_2yrs                   1\n",
       "earliest_cr_line              0\n",
       "inq_last_6mths                1\n",
       "mths_since_last_delinq    24363\n",
       "open_acc                      1\n",
       "pub_rec                       1\n",
       "revol_bal                     4\n",
       "revol_util                   59\n",
       "total_acc                     1\n",
       "total_pymnt                   1\n",
       "total_pymnt_inv               1\n",
       "total_rec_prncp               1\n",
       "total_rec_int                 1\n",
       "last_pymnt_d                 71\n",
       "last_pymnt_amnt               1\n",
       "next_pymnt_d              35097\n",
       "last_credit_pull_d            3\n",
       "repay_fail                    0\n",
       "dtype: int64"
      ]
     },
     "execution_count": 38,
     "metadata": {},
     "output_type": "execute_result"
    }
   ],
   "source": [
    "loan.isnull().sum()"
   ]
  },
  {
   "cell_type": "code",
   "execution_count": 39,
   "id": "d4c8ee2e",
   "metadata": {
    "scrolled": true
   },
   "outputs": [
    {
     "name": "stdout",
     "output_type": "stream",
     "text": [
      "<class 'pandas.core.frame.DataFrame'>\n",
      "RangeIndex: 38480 entries, 0 to 38479\n",
      "Data columns (total 37 columns):\n",
      " #   Column                  Non-Null Count  Dtype         \n",
      "---  ------                  --------------  -----         \n",
      " 0   Unnamed: 0              38480 non-null  int64         \n",
      " 1   id                      38480 non-null  int64         \n",
      " 2   member_id               38480 non-null  int64         \n",
      " 3   loan_amnt               38479 non-null  float64       \n",
      " 4   funded_amnt             38479 non-null  float64       \n",
      " 5   funded_amnt_inv         38479 non-null  float64       \n",
      " 6   term                    38480 non-null  object        \n",
      " 7   int_rate                38480 non-null  float64       \n",
      " 8   installment             38479 non-null  float64       \n",
      " 9   emp_length              37487 non-null  object        \n",
      " 10  home_ownership          38480 non-null  object        \n",
      " 11  annual_inc              38478 non-null  float64       \n",
      " 12  verification_status     38480 non-null  object        \n",
      " 13  issue_d                 38480 non-null  datetime64[ns]\n",
      " 14  loan_status             38480 non-null  object        \n",
      " 15  purpose                 38480 non-null  object        \n",
      " 16  zip_code                38480 non-null  object        \n",
      " 17  addr_state              38480 non-null  object        \n",
      " 18  dti                     38480 non-null  float64       \n",
      " 19  delinq_2yrs             38479 non-null  float64       \n",
      " 20  earliest_cr_line        38480 non-null  datetime64[ns]\n",
      " 21  inq_last_6mths          38479 non-null  float64       \n",
      " 22  mths_since_last_delinq  14117 non-null  float64       \n",
      " 23  open_acc                38479 non-null  float64       \n",
      " 24  pub_rec                 38479 non-null  float64       \n",
      " 25  revol_bal               38476 non-null  float64       \n",
      " 26  revol_util              38421 non-null  object        \n",
      " 27  total_acc               38479 non-null  float64       \n",
      " 28  total_pymnt             38479 non-null  float64       \n",
      " 29  total_pymnt_inv         38479 non-null  float64       \n",
      " 30  total_rec_prncp         38479 non-null  float64       \n",
      " 31  total_rec_int           38479 non-null  float64       \n",
      " 32  last_pymnt_d            38409 non-null  datetime64[ns]\n",
      " 33  last_pymnt_amnt         38479 non-null  float64       \n",
      " 34  next_pymnt_d            3383 non-null   datetime64[ns]\n",
      " 35  last_credit_pull_d      38477 non-null  datetime64[ns]\n",
      " 36  repay_fail              38480 non-null  int64         \n",
      "dtypes: datetime64[ns](5), float64(19), int64(4), object(9)\n",
      "memory usage: 10.9+ MB\n"
     ]
    }
   ],
   "source": [
    "loan.info()"
   ]
  },
  {
   "cell_type": "markdown",
   "id": "70745ed5",
   "metadata": {},
   "source": [
    "# Clean Unnecessary Columns"
   ]
  },
  {
   "cell_type": "code",
   "execution_count": 146,
   "id": "6a8de58b",
   "metadata": {},
   "outputs": [],
   "source": [
    "columns_to_drop = ['Unnamed: 0', 'id', 'member_id', 'funded_amnt_inv',\n",
    "                     'issue_d', 'last_pymnt_d', 'next_pymnt_d',\n",
    "                   'last_credit_pull_d', 'zip_code', 'addr_state']\n",
    "\n",
    "\n",
    "loan_dropped = loan.drop(columns=columns_to_drop)"
   ]
  },
  {
   "cell_type": "code",
   "execution_count": 147,
   "id": "82025282",
   "metadata": {},
   "outputs": [
    {
     "data": {
      "text/plain": [
       "array(['36 months', '60 months'], dtype=object)"
      ]
     },
     "execution_count": 147,
     "metadata": {},
     "output_type": "execute_result"
    }
   ],
   "source": [
    "loan_dropped['term'].unique()"
   ]
  },
  {
   "cell_type": "code",
   "execution_count": 148,
   "id": "f57462c9",
   "metadata": {},
   "outputs": [
    {
     "name": "stdout",
     "output_type": "stream",
     "text": [
      "<class 'pandas.core.frame.DataFrame'>\n",
      "RangeIndex: 38480 entries, 0 to 38479\n",
      "Data columns (total 27 columns):\n",
      " #   Column                  Non-Null Count  Dtype         \n",
      "---  ------                  --------------  -----         \n",
      " 0   loan_amnt               38479 non-null  float64       \n",
      " 1   funded_amnt             38479 non-null  float64       \n",
      " 2   term                    38480 non-null  object        \n",
      " 3   int_rate                38480 non-null  float64       \n",
      " 4   installment             38479 non-null  float64       \n",
      " 5   emp_length              37487 non-null  object        \n",
      " 6   home_ownership          38480 non-null  object        \n",
      " 7   annual_inc              38478 non-null  float64       \n",
      " 8   verification_status     38480 non-null  object        \n",
      " 9   loan_status             38480 non-null  object        \n",
      " 10  purpose                 38480 non-null  object        \n",
      " 11  dti                     38480 non-null  float64       \n",
      " 12  delinq_2yrs             38479 non-null  float64       \n",
      " 13  earliest_cr_line        38480 non-null  datetime64[ns]\n",
      " 14  inq_last_6mths          38479 non-null  float64       \n",
      " 15  mths_since_last_delinq  14117 non-null  float64       \n",
      " 16  open_acc                38479 non-null  float64       \n",
      " 17  pub_rec                 38479 non-null  float64       \n",
      " 18  revol_bal               38476 non-null  float64       \n",
      " 19  revol_util              38421 non-null  object        \n",
      " 20  total_acc               38479 non-null  float64       \n",
      " 21  total_pymnt             38479 non-null  float64       \n",
      " 22  total_pymnt_inv         38479 non-null  float64       \n",
      " 23  total_rec_prncp         38479 non-null  float64       \n",
      " 24  total_rec_int           38479 non-null  float64       \n",
      " 25  last_pymnt_amnt         38479 non-null  float64       \n",
      " 26  repay_fail              38480 non-null  int64         \n",
      "dtypes: datetime64[ns](1), float64(18), int64(1), object(7)\n",
      "memory usage: 7.9+ MB\n"
     ]
    }
   ],
   "source": [
    "loan_dropped.info()"
   ]
  },
  {
   "cell_type": "code",
   "execution_count": 149,
   "id": "b640caa0",
   "metadata": {},
   "outputs": [],
   "source": [
    "# car['kms_driven']=car['kms_driven'].str.split().str.get(0).str.replace(',','')\n",
    "loan_dropped['term']=loan_dropped['term'].str.split().str.get(0)"
   ]
  },
  {
   "cell_type": "code",
   "execution_count": 150,
   "id": "dffb8160",
   "metadata": {},
   "outputs": [],
   "source": [
    "loan_dropped['term']=loan_dropped['term'].astype(int)"
   ]
  },
  {
   "cell_type": "code",
   "execution_count": 151,
   "id": "55c78eb5",
   "metadata": {},
   "outputs": [
    {
     "name": "stdout",
     "output_type": "stream",
     "text": [
      "<class 'pandas.core.frame.DataFrame'>\n",
      "RangeIndex: 38480 entries, 0 to 38479\n",
      "Data columns (total 27 columns):\n",
      " #   Column                  Non-Null Count  Dtype         \n",
      "---  ------                  --------------  -----         \n",
      " 0   loan_amnt               38479 non-null  float64       \n",
      " 1   funded_amnt             38479 non-null  float64       \n",
      " 2   term                    38480 non-null  int32         \n",
      " 3   int_rate                38480 non-null  float64       \n",
      " 4   installment             38479 non-null  float64       \n",
      " 5   emp_length              37487 non-null  object        \n",
      " 6   home_ownership          38480 non-null  object        \n",
      " 7   annual_inc              38478 non-null  float64       \n",
      " 8   verification_status     38480 non-null  object        \n",
      " 9   loan_status             38480 non-null  object        \n",
      " 10  purpose                 38480 non-null  object        \n",
      " 11  dti                     38480 non-null  float64       \n",
      " 12  delinq_2yrs             38479 non-null  float64       \n",
      " 13  earliest_cr_line        38480 non-null  datetime64[ns]\n",
      " 14  inq_last_6mths          38479 non-null  float64       \n",
      " 15  mths_since_last_delinq  14117 non-null  float64       \n",
      " 16  open_acc                38479 non-null  float64       \n",
      " 17  pub_rec                 38479 non-null  float64       \n",
      " 18  revol_bal               38476 non-null  float64       \n",
      " 19  revol_util              38421 non-null  object        \n",
      " 20  total_acc               38479 non-null  float64       \n",
      " 21  total_pymnt             38479 non-null  float64       \n",
      " 22  total_pymnt_inv         38479 non-null  float64       \n",
      " 23  total_rec_prncp         38479 non-null  float64       \n",
      " 24  total_rec_int           38479 non-null  float64       \n",
      " 25  last_pymnt_amnt         38479 non-null  float64       \n",
      " 26  repay_fail              38480 non-null  int64         \n",
      "dtypes: datetime64[ns](1), float64(18), int32(1), int64(1), object(6)\n",
      "memory usage: 7.8+ MB\n"
     ]
    }
   ],
   "source": [
    "loan_dropped.info()"
   ]
  },
  {
   "cell_type": "code",
   "execution_count": 152,
   "id": "fed62407",
   "metadata": {},
   "outputs": [
    {
     "data": {
      "text/plain": [
       "array(['< 1 year', '4 years', '10+ years', nan, '3 years', '5 years',\n",
       "       '7 years', '2 years', '1 year', '6 years', '9 years', '8 years'],\n",
       "      dtype=object)"
      ]
     },
     "execution_count": 152,
     "metadata": {},
     "output_type": "execute_result"
    }
   ],
   "source": [
    "loan_dropped['emp_length'].unique()"
   ]
  },
  {
   "cell_type": "code",
   "execution_count": 153,
   "id": "cd70607c",
   "metadata": {},
   "outputs": [],
   "source": [
    "# loan_dropped['emp_length']=loan_dropped['emp_length'].str.split().str.get(0).str.replace('year','').str.replace('+','').str.replace('','')\n",
    "\n",
    "emp_length_mapping = {\n",
    "    '< 1 year': 0,\n",
    "    '1 year': 1,\n",
    "    '2 years': 2,\n",
    "    '3 years': 3,\n",
    "    '4 years': 4,\n",
    "    '5 years': 5,\n",
    "    '6 years': 6,\n",
    "    '7 years': 7,\n",
    "    '8 years': 8,\n",
    "    '9 years': 9,\n",
    "    '10+ years': 10\n",
    "}\n",
    "\n",
    "# Use the mapping to replace the strings with integers\n",
    "loan_dropped['emp_length'] = loan_dropped['emp_length'].replace(emp_length_mapping)"
   ]
  },
  {
   "cell_type": "code",
   "execution_count": 154,
   "id": "2715026f",
   "metadata": {},
   "outputs": [
    {
     "data": {
      "text/plain": [
       "10.0    8465\n",
       "0.0     4565\n",
       "2.0     4292\n",
       "3.0     3939\n",
       "4.0     3314\n",
       "1.0     3254\n",
       "5.0     3171\n",
       "6.0     2144\n",
       "7.0     1702\n",
       "8.0     1445\n",
       "9.0     1196\n",
       "Name: emp_length, dtype: int64"
      ]
     },
     "execution_count": 154,
     "metadata": {},
     "output_type": "execute_result"
    }
   ],
   "source": [
    "loan_dropped['emp_length'].value_counts()"
   ]
  },
  {
   "cell_type": "code",
   "execution_count": 155,
   "id": "f38a97cb",
   "metadata": {},
   "outputs": [
    {
     "name": "stdout",
     "output_type": "stream",
     "text": [
      "<class 'pandas.core.frame.DataFrame'>\n",
      "RangeIndex: 38480 entries, 0 to 38479\n",
      "Data columns (total 27 columns):\n",
      " #   Column                  Non-Null Count  Dtype         \n",
      "---  ------                  --------------  -----         \n",
      " 0   loan_amnt               38479 non-null  float64       \n",
      " 1   funded_amnt             38479 non-null  float64       \n",
      " 2   term                    38480 non-null  int32         \n",
      " 3   int_rate                38480 non-null  float64       \n",
      " 4   installment             38479 non-null  float64       \n",
      " 5   emp_length              37487 non-null  float64       \n",
      " 6   home_ownership          38480 non-null  object        \n",
      " 7   annual_inc              38478 non-null  float64       \n",
      " 8   verification_status     38480 non-null  object        \n",
      " 9   loan_status             38480 non-null  object        \n",
      " 10  purpose                 38480 non-null  object        \n",
      " 11  dti                     38480 non-null  float64       \n",
      " 12  delinq_2yrs             38479 non-null  float64       \n",
      " 13  earliest_cr_line        38480 non-null  datetime64[ns]\n",
      " 14  inq_last_6mths          38479 non-null  float64       \n",
      " 15  mths_since_last_delinq  14117 non-null  float64       \n",
      " 16  open_acc                38479 non-null  float64       \n",
      " 17  pub_rec                 38479 non-null  float64       \n",
      " 18  revol_bal               38476 non-null  float64       \n",
      " 19  revol_util              38421 non-null  object        \n",
      " 20  total_acc               38479 non-null  float64       \n",
      " 21  total_pymnt             38479 non-null  float64       \n",
      " 22  total_pymnt_inv         38479 non-null  float64       \n",
      " 23  total_rec_prncp         38479 non-null  float64       \n",
      " 24  total_rec_int           38479 non-null  float64       \n",
      " 25  last_pymnt_amnt         38479 non-null  float64       \n",
      " 26  repay_fail              38480 non-null  int64         \n",
      "dtypes: datetime64[ns](1), float64(19), int32(1), int64(1), object(5)\n",
      "memory usage: 7.8+ MB\n"
     ]
    }
   ],
   "source": [
    "loan_dropped.info()"
   ]
  },
  {
   "cell_type": "code",
   "execution_count": 156,
   "id": "5d1ae52d",
   "metadata": {},
   "outputs": [],
   "source": [
    "loan_dropped['emp_length']=loan_dropped['emp_length'].astype(float)"
   ]
  },
  {
   "cell_type": "code",
   "execution_count": 157,
   "id": "cc4f233e",
   "metadata": {},
   "outputs": [
    {
     "name": "stdout",
     "output_type": "stream",
     "text": [
      "<class 'pandas.core.frame.DataFrame'>\n",
      "RangeIndex: 38480 entries, 0 to 38479\n",
      "Data columns (total 27 columns):\n",
      " #   Column                  Non-Null Count  Dtype         \n",
      "---  ------                  --------------  -----         \n",
      " 0   loan_amnt               38479 non-null  float64       \n",
      " 1   funded_amnt             38479 non-null  float64       \n",
      " 2   term                    38480 non-null  int32         \n",
      " 3   int_rate                38480 non-null  float64       \n",
      " 4   installment             38479 non-null  float64       \n",
      " 5   emp_length              37487 non-null  float64       \n",
      " 6   home_ownership          38480 non-null  object        \n",
      " 7   annual_inc              38478 non-null  float64       \n",
      " 8   verification_status     38480 non-null  object        \n",
      " 9   loan_status             38480 non-null  object        \n",
      " 10  purpose                 38480 non-null  object        \n",
      " 11  dti                     38480 non-null  float64       \n",
      " 12  delinq_2yrs             38479 non-null  float64       \n",
      " 13  earliest_cr_line        38480 non-null  datetime64[ns]\n",
      " 14  inq_last_6mths          38479 non-null  float64       \n",
      " 15  mths_since_last_delinq  14117 non-null  float64       \n",
      " 16  open_acc                38479 non-null  float64       \n",
      " 17  pub_rec                 38479 non-null  float64       \n",
      " 18  revol_bal               38476 non-null  float64       \n",
      " 19  revol_util              38421 non-null  object        \n",
      " 20  total_acc               38479 non-null  float64       \n",
      " 21  total_pymnt             38479 non-null  float64       \n",
      " 22  total_pymnt_inv         38479 non-null  float64       \n",
      " 23  total_rec_prncp         38479 non-null  float64       \n",
      " 24  total_rec_int           38479 non-null  float64       \n",
      " 25  last_pymnt_amnt         38479 non-null  float64       \n",
      " 26  repay_fail              38480 non-null  int64         \n",
      "dtypes: datetime64[ns](1), float64(19), int32(1), int64(1), object(5)\n",
      "memory usage: 7.8+ MB\n"
     ]
    }
   ],
   "source": [
    "loan_dropped.info()"
   ]
  },
  {
   "cell_type": "code",
   "execution_count": 158,
   "id": "1dbccd53",
   "metadata": {},
   "outputs": [
    {
     "data": {
      "text/plain": [
       "array(['Not Verified', 'Verified', 'Source Verified'], dtype=object)"
      ]
     },
     "execution_count": 158,
     "metadata": {},
     "output_type": "execute_result"
    }
   ],
   "source": [
    "loan_dropped['verification_status'].unique()"
   ]
  },
  {
   "cell_type": "code",
   "execution_count": null,
   "id": "9cfc6159",
   "metadata": {},
   "outputs": [],
   "source": []
  },
  {
   "cell_type": "code",
   "execution_count": 159,
   "id": "fbc2373c",
   "metadata": {},
   "outputs": [],
   "source": [
    "verification_status_mapping = {\n",
    "    'Not Verified': 0,\n",
    "    'Verified': 1,\n",
    "    'Source Verified': 1\n",
    "}\n",
    "\n",
    "loan_dropped['verification_status'] = loan_dropped['verification_status'].replace(verification_status_mapping)"
   ]
  },
  {
   "cell_type": "code",
   "execution_count": 160,
   "id": "c109a615",
   "metadata": {},
   "outputs": [
    {
     "name": "stdout",
     "output_type": "stream",
     "text": [
      "<class 'pandas.core.frame.DataFrame'>\n",
      "RangeIndex: 38480 entries, 0 to 38479\n",
      "Data columns (total 27 columns):\n",
      " #   Column                  Non-Null Count  Dtype         \n",
      "---  ------                  --------------  -----         \n",
      " 0   loan_amnt               38479 non-null  float64       \n",
      " 1   funded_amnt             38479 non-null  float64       \n",
      " 2   term                    38480 non-null  int32         \n",
      " 3   int_rate                38480 non-null  float64       \n",
      " 4   installment             38479 non-null  float64       \n",
      " 5   emp_length              37487 non-null  float64       \n",
      " 6   home_ownership          38480 non-null  object        \n",
      " 7   annual_inc              38478 non-null  float64       \n",
      " 8   verification_status     38480 non-null  int64         \n",
      " 9   loan_status             38480 non-null  object        \n",
      " 10  purpose                 38480 non-null  object        \n",
      " 11  dti                     38480 non-null  float64       \n",
      " 12  delinq_2yrs             38479 non-null  float64       \n",
      " 13  earliest_cr_line        38480 non-null  datetime64[ns]\n",
      " 14  inq_last_6mths          38479 non-null  float64       \n",
      " 15  mths_since_last_delinq  14117 non-null  float64       \n",
      " 16  open_acc                38479 non-null  float64       \n",
      " 17  pub_rec                 38479 non-null  float64       \n",
      " 18  revol_bal               38476 non-null  float64       \n",
      " 19  revol_util              38421 non-null  object        \n",
      " 20  total_acc               38479 non-null  float64       \n",
      " 21  total_pymnt             38479 non-null  float64       \n",
      " 22  total_pymnt_inv         38479 non-null  float64       \n",
      " 23  total_rec_prncp         38479 non-null  float64       \n",
      " 24  total_rec_int           38479 non-null  float64       \n",
      " 25  last_pymnt_amnt         38479 non-null  float64       \n",
      " 26  repay_fail              38480 non-null  int64         \n",
      "dtypes: datetime64[ns](1), float64(19), int32(1), int64(2), object(4)\n",
      "memory usage: 7.8+ MB\n"
     ]
    }
   ],
   "source": [
    "loan_dropped.info()"
   ]
  },
  {
   "cell_type": "code",
   "execution_count": 161,
   "id": "1bba6da1",
   "metadata": {},
   "outputs": [
    {
     "data": {
      "text/plain": [
       "RENT        18253\n",
       "MORTGAGE    17140\n",
       "OWN          2958\n",
       "OTHER         125\n",
       "NONE            4\n",
       "Name: home_ownership, dtype: int64"
      ]
     },
     "execution_count": 161,
     "metadata": {},
     "output_type": "execute_result"
    }
   ],
   "source": [
    "loan_dropped['home_ownership'].value_counts()"
   ]
  },
  {
   "cell_type": "code",
   "execution_count": 162,
   "id": "9ab744e5",
   "metadata": {},
   "outputs": [],
   "source": [
    "home_ownership_mapping = {\n",
    "    'NONE': \"OTHER\",\n",
    "}\n",
    "\n",
    "loan_dropped['home_ownership'] = loan_dropped['home_ownership'].replace(home_ownership_mapping)"
   ]
  },
  {
   "cell_type": "code",
   "execution_count": 163,
   "id": "f66e6b72",
   "metadata": {},
   "outputs": [
    {
     "name": "stdout",
     "output_type": "stream",
     "text": [
      "<class 'pandas.core.frame.DataFrame'>\n",
      "RangeIndex: 38480 entries, 0 to 38479\n",
      "Data columns (total 27 columns):\n",
      " #   Column                  Non-Null Count  Dtype         \n",
      "---  ------                  --------------  -----         \n",
      " 0   loan_amnt               38479 non-null  float64       \n",
      " 1   funded_amnt             38479 non-null  float64       \n",
      " 2   term                    38480 non-null  int32         \n",
      " 3   int_rate                38480 non-null  float64       \n",
      " 4   installment             38479 non-null  float64       \n",
      " 5   emp_length              37487 non-null  float64       \n",
      " 6   home_ownership          38480 non-null  object        \n",
      " 7   annual_inc              38478 non-null  float64       \n",
      " 8   verification_status     38480 non-null  int64         \n",
      " 9   loan_status             38480 non-null  object        \n",
      " 10  purpose                 38480 non-null  object        \n",
      " 11  dti                     38480 non-null  float64       \n",
      " 12  delinq_2yrs             38479 non-null  float64       \n",
      " 13  earliest_cr_line        38480 non-null  datetime64[ns]\n",
      " 14  inq_last_6mths          38479 non-null  float64       \n",
      " 15  mths_since_last_delinq  14117 non-null  float64       \n",
      " 16  open_acc                38479 non-null  float64       \n",
      " 17  pub_rec                 38479 non-null  float64       \n",
      " 18  revol_bal               38476 non-null  float64       \n",
      " 19  revol_util              38421 non-null  object        \n",
      " 20  total_acc               38479 non-null  float64       \n",
      " 21  total_pymnt             38479 non-null  float64       \n",
      " 22  total_pymnt_inv         38479 non-null  float64       \n",
      " 23  total_rec_prncp         38479 non-null  float64       \n",
      " 24  total_rec_int           38479 non-null  float64       \n",
      " 25  last_pymnt_amnt         38479 non-null  float64       \n",
      " 26  repay_fail              38480 non-null  int64         \n",
      "dtypes: datetime64[ns](1), float64(19), int32(1), int64(2), object(4)\n",
      "memory usage: 7.8+ MB\n"
     ]
    }
   ],
   "source": [
    "loan_dropped.info()"
   ]
  },
  {
   "cell_type": "code",
   "execution_count": 164,
   "id": "1eea0f7e",
   "metadata": {},
   "outputs": [
    {
     "data": {
      "text/plain": [
       "Fully Paid                                             29987\n",
       "Charged Off                                             5111\n",
       "Does not meet the credit policy. Status:Fully Paid      1782\n",
       "Current                                                  867\n",
       "Does not meet the credit policy. Status:Charged Off      689\n",
       "Late (31-120 days)                                        20\n",
       "In Grace Period                                           15\n",
       "Late (16-30 days)                                          7\n",
       "Default                                                    2\n",
       "Name: loan_status, dtype: int64"
      ]
     },
     "execution_count": 164,
     "metadata": {},
     "output_type": "execute_result"
    }
   ],
   "source": [
    "loan_dropped['loan_status'].value_counts()"
   ]
  },
  {
   "cell_type": "code",
   "execution_count": 165,
   "id": "ff059054",
   "metadata": {},
   "outputs": [],
   "source": [
    "loan_status_mapping = {\n",
    "   \"Does not meet the credit policy. Status:Fully Paid\" : \"Fully Paid\",\n",
    "    \"Does not meet the credit policy. Status:Charged Off\": \"Charged Off\" ,\n",
    "    \"In Grace Period\":\"Late\",\n",
    "    \"Default\":\"Late\",\n",
    "    \n",
    "    \"Late (31-120 days)\":\"Late\",\n",
    "   \"Late (16-30 days)\" :\"Late\"\n",
    "}\n",
    "\n",
    "loan_dropped['loan_status'] = loan_dropped['loan_status'].replace(loan_status_mapping)"
   ]
  },
  {
   "cell_type": "code",
   "execution_count": 166,
   "id": "08a7ac45",
   "metadata": {},
   "outputs": [
    {
     "data": {
      "text/plain": [
       "Fully Paid     31769\n",
       "Charged Off     5800\n",
       "Current          867\n",
       "Late              44\n",
       "Name: loan_status, dtype: int64"
      ]
     },
     "execution_count": 166,
     "metadata": {},
     "output_type": "execute_result"
    }
   ],
   "source": [
    "loan_dropped['loan_status'].value_counts()"
   ]
  },
  {
   "cell_type": "code",
   "execution_count": 167,
   "id": "337d1cdd",
   "metadata": {},
   "outputs": [
    {
     "data": {
      "text/plain": [
       "debt_consolidation    17917\n",
       "credit_card            4974\n",
       "other                  3950\n",
       "home_improvement       2901\n",
       "major_purchase         2079\n",
       "small_business         1808\n",
       "car                    1481\n",
       "wedding                 909\n",
       "medical                 675\n",
       "moving                  562\n",
       "house                   387\n",
       "educational             386\n",
       "vacation                360\n",
       "renewable_energy         91\n",
       "Name: purpose, dtype: int64"
      ]
     },
     "execution_count": 167,
     "metadata": {},
     "output_type": "execute_result"
    }
   ],
   "source": [
    "loan_dropped['purpose'].value_counts()"
   ]
  },
  {
   "cell_type": "code",
   "execution_count": 168,
   "id": "c574a490",
   "metadata": {},
   "outputs": [
    {
     "data": {
      "text/plain": [
       "0.0000    949\n",
       "0.0010     60\n",
       "0.0020     60\n",
       "0.7040     59\n",
       "0.3530     57\n",
       "         ... \n",
       "0.2489      1\n",
       "0.8131      1\n",
       "1.0620      1\n",
       "0.5877      1\n",
       "0.1602      1\n",
       "Name: revol_util, Length: 1109, dtype: int64"
      ]
     },
     "execution_count": 168,
     "metadata": {},
     "output_type": "execute_result"
    }
   ],
   "source": [
    "loan_dropped['revol_util'].value_counts()"
   ]
  },
  {
   "cell_type": "code",
   "execution_count": 171,
   "id": "13d424c0",
   "metadata": {},
   "outputs": [],
   "source": [
    "dummies = pd.get_dummies(loan_dropped)"
   ]
  },
  {
   "cell_type": "code",
   "execution_count": 172,
   "id": "6845a8dd",
   "metadata": {},
   "outputs": [
    {
     "ename": "KeyError",
     "evalue": "\"['home_ownership', 'purpose'] not in index\"",
     "output_type": "error",
     "traceback": [
      "\u001b[1;31m---------------------------------------------------------------------------\u001b[0m",
      "\u001b[1;31mKeyError\u001b[0m                                  Traceback (most recent call last)",
      "Cell \u001b[1;32mIn[172], line 1\u001b[0m\n\u001b[1;32m----> 1\u001b[0m X \u001b[38;5;241m=\u001b[39m dummies[[\u001b[38;5;124m'\u001b[39m\u001b[38;5;124mloan_amnt\u001b[39m\u001b[38;5;124m'\u001b[39m, \u001b[38;5;124m'\u001b[39m\u001b[38;5;124mfunded_amnt\u001b[39m\u001b[38;5;124m'\u001b[39m, \u001b[38;5;124m'\u001b[39m\u001b[38;5;124mterm\u001b[39m\u001b[38;5;124m'\u001b[39m, \u001b[38;5;124m'\u001b[39m\u001b[38;5;124mint_rate\u001b[39m\u001b[38;5;124m'\u001b[39m, \u001b[38;5;124m'\u001b[39m\u001b[38;5;124minstallment\u001b[39m\u001b[38;5;124m'\u001b[39m, \u001b[38;5;124m'\u001b[39m\u001b[38;5;124memp_length\u001b[39m\u001b[38;5;124m'\u001b[39m,\n\u001b[0;32m      2\u001b[0m                   \u001b[38;5;124m'\u001b[39m\u001b[38;5;124mhome_ownership\u001b[39m\u001b[38;5;124m'\u001b[39m, \u001b[38;5;124m'\u001b[39m\u001b[38;5;124mannual_inc\u001b[39m\u001b[38;5;124m'\u001b[39m, \u001b[38;5;124m'\u001b[39m\u001b[38;5;124mverification_status\u001b[39m\u001b[38;5;124m'\u001b[39m, \u001b[38;5;124m'\u001b[39m\u001b[38;5;124mpurpose\u001b[39m\u001b[38;5;124m'\u001b[39m, \u001b[38;5;124m'\u001b[39m\u001b[38;5;124mtotal_pymnt_inv\u001b[39m\u001b[38;5;124m'\u001b[39m]]\n\u001b[0;32m      4\u001b[0m y \u001b[38;5;241m=\u001b[39m dummies[\u001b[38;5;124m'\u001b[39m\u001b[38;5;124mrepay_fail\u001b[39m\u001b[38;5;124m'\u001b[39m]\n",
      "File \u001b[1;32m~\\anaconda3\\Lib\\site-packages\\pandas\\core\\frame.py:3813\u001b[0m, in \u001b[0;36mDataFrame.__getitem__\u001b[1;34m(self, key)\u001b[0m\n\u001b[0;32m   3811\u001b[0m     \u001b[38;5;28;01mif\u001b[39;00m is_iterator(key):\n\u001b[0;32m   3812\u001b[0m         key \u001b[38;5;241m=\u001b[39m \u001b[38;5;28mlist\u001b[39m(key)\n\u001b[1;32m-> 3813\u001b[0m     indexer \u001b[38;5;241m=\u001b[39m \u001b[38;5;28mself\u001b[39m\u001b[38;5;241m.\u001b[39mcolumns\u001b[38;5;241m.\u001b[39m_get_indexer_strict(key, \u001b[38;5;124m\"\u001b[39m\u001b[38;5;124mcolumns\u001b[39m\u001b[38;5;124m\"\u001b[39m)[\u001b[38;5;241m1\u001b[39m]\n\u001b[0;32m   3815\u001b[0m \u001b[38;5;66;03m# take() does not accept boolean indexers\u001b[39;00m\n\u001b[0;32m   3816\u001b[0m \u001b[38;5;28;01mif\u001b[39;00m \u001b[38;5;28mgetattr\u001b[39m(indexer, \u001b[38;5;124m\"\u001b[39m\u001b[38;5;124mdtype\u001b[39m\u001b[38;5;124m\"\u001b[39m, \u001b[38;5;28;01mNone\u001b[39;00m) \u001b[38;5;241m==\u001b[39m \u001b[38;5;28mbool\u001b[39m:\n",
      "File \u001b[1;32m~\\anaconda3\\Lib\\site-packages\\pandas\\core\\indexes\\base.py:6070\u001b[0m, in \u001b[0;36mIndex._get_indexer_strict\u001b[1;34m(self, key, axis_name)\u001b[0m\n\u001b[0;32m   6067\u001b[0m \u001b[38;5;28;01melse\u001b[39;00m:\n\u001b[0;32m   6068\u001b[0m     keyarr, indexer, new_indexer \u001b[38;5;241m=\u001b[39m \u001b[38;5;28mself\u001b[39m\u001b[38;5;241m.\u001b[39m_reindex_non_unique(keyarr)\n\u001b[1;32m-> 6070\u001b[0m \u001b[38;5;28mself\u001b[39m\u001b[38;5;241m.\u001b[39m_raise_if_missing(keyarr, indexer, axis_name)\n\u001b[0;32m   6072\u001b[0m keyarr \u001b[38;5;241m=\u001b[39m \u001b[38;5;28mself\u001b[39m\u001b[38;5;241m.\u001b[39mtake(indexer)\n\u001b[0;32m   6073\u001b[0m \u001b[38;5;28;01mif\u001b[39;00m \u001b[38;5;28misinstance\u001b[39m(key, Index):\n\u001b[0;32m   6074\u001b[0m     \u001b[38;5;66;03m# GH 42790 - Preserve name from an Index\u001b[39;00m\n",
      "File \u001b[1;32m~\\anaconda3\\Lib\\site-packages\\pandas\\core\\indexes\\base.py:6133\u001b[0m, in \u001b[0;36mIndex._raise_if_missing\u001b[1;34m(self, key, indexer, axis_name)\u001b[0m\n\u001b[0;32m   6130\u001b[0m     \u001b[38;5;28;01mraise\u001b[39;00m \u001b[38;5;167;01mKeyError\u001b[39;00m(\u001b[38;5;124mf\u001b[39m\u001b[38;5;124m\"\u001b[39m\u001b[38;5;124mNone of [\u001b[39m\u001b[38;5;132;01m{\u001b[39;00mkey\u001b[38;5;132;01m}\u001b[39;00m\u001b[38;5;124m] are in the [\u001b[39m\u001b[38;5;132;01m{\u001b[39;00maxis_name\u001b[38;5;132;01m}\u001b[39;00m\u001b[38;5;124m]\u001b[39m\u001b[38;5;124m\"\u001b[39m)\n\u001b[0;32m   6132\u001b[0m not_found \u001b[38;5;241m=\u001b[39m \u001b[38;5;28mlist\u001b[39m(ensure_index(key)[missing_mask\u001b[38;5;241m.\u001b[39mnonzero()[\u001b[38;5;241m0\u001b[39m]]\u001b[38;5;241m.\u001b[39munique())\n\u001b[1;32m-> 6133\u001b[0m \u001b[38;5;28;01mraise\u001b[39;00m \u001b[38;5;167;01mKeyError\u001b[39;00m(\u001b[38;5;124mf\u001b[39m\u001b[38;5;124m\"\u001b[39m\u001b[38;5;132;01m{\u001b[39;00mnot_found\u001b[38;5;132;01m}\u001b[39;00m\u001b[38;5;124m not in index\u001b[39m\u001b[38;5;124m\"\u001b[39m)\n",
      "\u001b[1;31mKeyError\u001b[0m: \"['home_ownership', 'purpose'] not in index\""
     ]
    }
   ],
   "source": [
    "X = dummies[['loan_amnt', 'funded_amnt', 'term', 'int_rate', 'installment', 'emp_length',\n",
    "                  'home_ownership', 'annual_inc', 'verification_status', 'purpose', 'total_pymnt_inv']]\n",
    "\n",
    "y = dummies['repay_fail']"
   ]
  },
  {
   "cell_type": "code",
   "execution_count": null,
   "id": "fbcc54e3",
   "metadata": {},
   "outputs": [],
   "source": []
  },
  {
   "cell_type": "code",
   "execution_count": null,
   "id": "0cc77f21",
   "metadata": {},
   "outputs": [],
   "source": []
  },
  {
   "cell_type": "code",
   "execution_count": null,
   "id": "c6a97b39",
   "metadata": {},
   "outputs": [],
   "source": []
  },
  {
   "cell_type": "code",
   "execution_count": 170,
   "id": "0ae8ef8e",
   "metadata": {},
   "outputs": [],
   "source": [
    "from sklearn.model_selection import train_test_split\n",
    "X_train,X_test,y_train,y_test = train_test_split(X,y,test_size=0.2,random_state=0)"
   ]
  },
  {
   "cell_type": "code",
   "execution_count": null,
   "id": "72dcdfeb",
   "metadata": {},
   "outputs": [],
   "source": [
    "from sklearn.linear_model import logical"
   ]
  },
  {
   "cell_type": "code",
   "execution_count": null,
   "id": "07069527",
   "metadata": {},
   "outputs": [],
   "source": [
    "from sklearn.linear_model import LogisticRegression\n",
    "\n",
    "# Create an instance of the LogisticRegression model\n",
    "logistic_regression_model = LogisticRegression()\n",
    "\n",
    "# Fit the model to your training data\n",
    "logistic_regression_model.fit(X_train, y_train)\n",
    "\n",
    "# Now you can use the trained model for predictions and evaluation"
   ]
  }
 ],
 "metadata": {
  "kernelspec": {
   "display_name": "Python 3 (ipykernel)",
   "language": "python",
   "name": "python3"
  },
  "language_info": {
   "codemirror_mode": {
    "name": "ipython",
    "version": 3
   },
   "file_extension": ".py",
   "mimetype": "text/x-python",
   "name": "python",
   "nbconvert_exporter": "python",
   "pygments_lexer": "ipython3",
   "version": "3.11.4"
  }
 },
 "nbformat": 4,
 "nbformat_minor": 5
}
